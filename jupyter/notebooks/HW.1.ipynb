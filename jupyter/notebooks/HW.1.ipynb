{
 "cells": [
  {
   "cell_type": "code",
   "execution_count": 16,
   "id": "8c3a776c",
   "metadata": {},
   "outputs": [
    {
     "name": "stdout",
     "output_type": "stream",
     "text": [
      "해발고도 입력220\n"
     ]
    }
   ],
   "source": [
    "seaLevel = int(input(\"해발고도 입력\"))"
   ]
  },
  {
   "cell_type": "code",
   "execution_count": 17,
   "id": "2b9c9dee",
   "metadata": {},
   "outputs": [],
   "source": [
    "celsius = 24 - int(seaLevel / 100) * 0.6"
   ]
  },
  {
   "cell_type": "code",
   "execution_count": 18,
   "id": "87c9fc3f",
   "metadata": {},
   "outputs": [
    {
     "name": "stdout",
     "output_type": "stream",
     "text": [
      "22.8\n"
     ]
    }
   ],
   "source": [
    "print(celsius)"
   ]
  }
 ],
 "metadata": {
  "kernelspec": {
   "display_name": "Python 3 (ipykernel)",
   "language": "python",
   "name": "python3"
  },
  "language_info": {
   "codemirror_mode": {
    "name": "ipython",
    "version": 3
   },
   "file_extension": ".py",
   "mimetype": "text/x-python",
   "name": "python",
   "nbconvert_exporter": "python",
   "pygments_lexer": "ipython3",
   "version": "3.8.2"
  }
 },
 "nbformat": 4,
 "nbformat_minor": 5
}
