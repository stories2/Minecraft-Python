{
 "cells": [
  {
   "cell_type": "markdown",
   "id": "fd6023ff",
   "metadata": {},
   "source": [
    "# 과제 1\n",
    "해발 100m 씩 높아질때마다 기온이 0.6°C 씩 낮아진다고 합니다.\n",
    "\n",
    "현재 기온이 24°C 일 때, 해발고도를 입력받아 계산된 온도를 출력하는 프로그램을 작성해주세요.\n",
    "\n",
    "아래 사진에서 네모로 가려진 부분을 완성하면 됩니다.\n",
    "\n",
    "\n",
    "\n",
    "예상 결과\n",
    "\n",
    "- 입력: 220, 출력: 22.8\n",
    "- 입력: 0, 출력: 24\n",
    "- 입력: 300, 출력: 22.2 \n",
    "\n",
    "<img width=\"720\" alt=\"스크린샷 2021-11-02 오후 5 53 57\" src=\"https://user-images.githubusercontent.com/16532326/140452706-016fe3ce-7d3b-4afd-b90d-ba7d0905f22c.png\">"
   ]
  },
  {
   "cell_type": "code",
   "execution_count": 16,
   "id": "8c3a776c",
   "metadata": {},
   "outputs": [
    {
     "name": "stdout",
     "output_type": "stream",
     "text": [
      "해발고도 입력220\n"
     ]
    }
   ],
   "source": [
    "seaLevel = int(input(\"해발고도 입력\"))"
   ]
  },
  {
   "cell_type": "markdown",
   "id": "b138581a",
   "metadata": {},
   "source": [
    "<img src=\"https://user-images.githubusercontent.com/16532326/140452107-12e7434c-7028-4a49-b395-b661dbaa18ac.jpeg\" width=\"720\"/>\n",
    "\n",
    "`input` 함수는 사용자 입력 받은 내용을 모두 문자열로 반환합니다.\n",
    "\n",
    "따라서 220 이라는 숫자를 입력하여도 \"220\" 이라는 문자열로 받아 들여지게 됩니다. \n",
    "\n",
    "[`input` 함수의 정의 링크입니다.](https://docs.python.org/3/library/functions.html#input)\n",
    "\n",
    "```\n",
    "int(\"220\")\n",
    "```\n",
    "\n",
    "사용자 입력을 받은 직후 정수로 형변환을 하는 것을 확인할 수 있습니다.\n",
    "\n",
    "`int()` 정수형 변환 함수로 인해 문자열 \"220\" 은 정수형 220 으로 우리가 생각하는 숫자 형태로 변환이 될 것입니다.\n",
    "\n",
    "이후 처리 결과를 `seaLevel` 이라는 변수에 전달하여 seaLevel 은 정수 220 이라는 값을 가지는 변수가 됩니다."
   ]
  },
  {
   "cell_type": "code",
   "execution_count": 23,
   "id": "2b9c9dee",
   "metadata": {},
   "outputs": [],
   "source": [
    "celsius = 24 - (int(seaLevel/100)*0.6)"
   ]
  },
  {
   "cell_type": "markdown",
   "id": "bf7e671c",
   "metadata": {},
   "source": [
    "<img src=\"https://user-images.githubusercontent.com/16532326/140453124-3299647f-1c80-4da8-aaa9-e0499f536007.jpeg\" width=\"720\"/>\n",
    "\n",
    "현재 기온을 시작으로 해발고도에 따른 기온 계산을 위와 같은 수식으로 생각해볼 수 있습니다.\n",
    "\n",
    "여기서 주의해야할 점으로 \n",
    "\n",
    "`입력받은 해발 고도(seaLevel)` / 100m\n",
    "\n",
    "부분인데 \n",
    "\n",
    "- 고도에 따라 정확한 온도를 계산해야 할 경우\n",
    "- 100m 당 계산을 해야할 경우\n",
    "\n",
    "2가지 방식으로 나뉠 수 있습니다.\n",
    "\n",
    "`입력받은 해발 고도(seaLevel)` / 100m = 실수 \n",
    "\n",
    "ex)\n",
    "\n",
    "```\n",
    "220m / 100m = 2.2\n",
    "```\n",
    "\n",
    "형태로 반환이 되어 2.2 * 0.6 한 결과는 좀 더 정밀한 계산 결과가 나올 것입니다.\n",
    "\n",
    "하지만 100m 당 계산을 해야할 경우엔\n",
    "\n",
    "```\n",
    "int(220m / 100m) = 2\n",
    "```\n",
    "\n",
    "같이 정수형 변환 함수를 사용하여 int(2.2) -> 2 로 변환해야 할 것입니다."
   ]
  },
  {
   "cell_type": "code",
   "execution_count": 24,
   "id": "87c9fc3f",
   "metadata": {},
   "outputs": [
    {
     "name": "stdout",
     "output_type": "stream",
     "text": [
      "22.8\n"
     ]
    }
   ],
   "source": [
    "print(celsius)"
   ]
  },
  {
   "cell_type": "code",
   "execution_count": null,
   "id": "8c35cd78",
   "metadata": {},
   "outputs": [],
   "source": []
  }
 ],
 "metadata": {
  "kernelspec": {
   "display_name": "Python 3 (ipykernel)",
   "language": "python",
   "name": "python3"
  },
  "language_info": {
   "codemirror_mode": {
    "name": "ipython",
    "version": 3
   },
   "file_extension": ".py",
   "mimetype": "text/x-python",
   "name": "python",
   "nbconvert_exporter": "python",
   "pygments_lexer": "ipython3",
   "version": "3.8.2"
  }
 },
 "nbformat": 4,
 "nbformat_minor": 5
}
