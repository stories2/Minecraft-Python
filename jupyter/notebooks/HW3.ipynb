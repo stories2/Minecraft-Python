{
 "cells": [
  {
   "cell_type": "markdown",
   "id": "ff7822cf",
   "metadata": {},
   "source": [
    "# 문제\n",
    "\n",
    "다이아 만들기\n",
    "\n",
    "다이아 모양을 만들어 봅니다.\n",
    "\n",
    "빈칸을 채우시면 됩니다.\n",
    "\n",
    "변환 함수로 abs( 값 ) 이 필요할 수 있습니다.\n",
    "\n",
    "abs 함수는 값으로 들어온 모든 숫자를 양의 숫자로 변환합니다.\n",
    "\n",
    "예시) abs(-24) ==> 24\n",
    "\n",
    "![asdf](https://user-images.githubusercontent.com/16532326/142627384-9c189467-4cb1-42c2-9d77-c888df38655e.png)"
   ]
  },
  {
   "cell_type": "markdown",
   "id": "b40e650e",
   "metadata": {},
   "source": [
    "# 정답"
   ]
  },
  {
   "cell_type": "code",
   "execution_count": 1,
   "id": "37d6f6f7",
   "metadata": {},
   "outputs": [],
   "source": [
    "n = 11"
   ]
  },
  {
   "cell_type": "code",
   "execution_count": 2,
   "id": "25e5f510",
   "metadata": {},
   "outputs": [
    {
     "name": "stdout",
     "output_type": "stream",
     "text": [
      "□□□□□■□□□□□\n",
      "□□□□■■■□□□□\n",
      "□□□■■■■■□□□\n",
      "□□■■■■■■■□□\n",
      "□■■■■■■■■■□\n",
      "■■■■■■■■■■■\n",
      "□■■■■■■■■■□\n",
      "□□■■■■■■■□□\n",
      "□□□■■■■■□□□\n",
      "□□□□■■■□□□□\n",
      "□□□□□■□□□□□\n"
     ]
    }
   ],
   "source": [
    "for i in range(n):\n",
    "    for t in range(n):\n",
    "        start = abs(i - n // 2)\n",
    "        blocks = (n / 2 - start) * 2\n",
    "        if start <= t and t < start + blocks:\n",
    "            print(\"■\", end = \"\")\n",
    "        else:\n",
    "            print(\"□\", end = \"\")\n",
    "    print()"
   ]
  },
  {
   "cell_type": "markdown",
   "id": "5f72f69f",
   "metadata": {},
   "source": [
    "# 해설"
   ]
  },
  {
   "cell_type": "markdown",
   "id": "0d9961b5",
   "metadata": {},
   "source": [
    "쉽게 계산하기 위해 \n",
    "\n",
    "임의로 n 의 값을 5로 변경하겠습니다"
   ]
  },
  {
   "cell_type": "code",
   "execution_count": 4,
   "id": "80e12d1f",
   "metadata": {},
   "outputs": [],
   "source": [
    "n = 5"
   ]
  },
  {
   "cell_type": "code",
   "execution_count": 5,
   "id": "a4c8529c",
   "metadata": {},
   "outputs": [
    {
     "name": "stdout",
     "output_type": "stream",
     "text": [
      "□□□□□\n",
      "□□□□□\n",
      "□□□□□\n",
      "□□□□□\n",
      "□□□□□\n"
     ]
    }
   ],
   "source": [
    "for i in range(n):\n",
    "    for t in range(n):\n",
    "            print(\"□\", end = \"\")\n",
    "    print()"
   ]
  },
  {
   "cell_type": "markdown",
   "id": "988f36a1",
   "metadata": {},
   "source": [
    "2중 반복문을 사용한 이유는 n x n 형태를 만들기 위함입니다.\n",
    "\n",
    "따라서 반복문 안의 내용을 비워보면 위와 같은 결과를 볼 수 있습니다."
   ]
  },
  {
   "cell_type": "markdown",
   "id": "37eec3eb",
   "metadata": {},
   "source": [
    "여기서 쓰인 방식은\n",
    "\n",
    "start = ■ 가 그려질 위치 시작 지점\n",
    "\n",
    "blocks = ■ 가 몇개 그려져야 할 지 \n",
    "\n",
    "로 결정하였습니다.\n",
    "\n",
    "|   | 0 | 1  | 2  | 3  | 4  |\n",
    "|:-:|:-:|:-:|:-:|:-:|:-:|\n",
    "| 0  |   |   | ■  |   |   |\n",
    "| 1  |   |  ■ | ■  | ■  |   |\n",
    "| 2  | ■  | ■  | ■  | ■  | ■  |\n",
    "| 3  |   | ■  | ■  | ■  |   |\n",
    "| 4  |   |   | ■  |   |   |\n"
   ]
  },
  {
   "cell_type": "markdown",
   "id": "c58e501b",
   "metadata": {},
   "source": [
    "위와 같은 형식으로 ■ 가 출력이 되어야 합니다.\n",
    "\n",
    "패턴을 분석하면\n",
    "\n",
    "start 값은 \n",
    "\n",
    "```\n",
    "2 -> 1 -> 0 -> 1 -> 2\n",
    "```\n",
    "\n",
    "로 변화 하며,\n",
    "\n",
    "blocks 값은\n",
    "\n",
    "```\n",
    "1 -> 3 -> 5 -> 3 -> 1\n",
    "```\n",
    "\n",
    "로 변화하는 것을 알 수 있습니다.\n",
    "\n"
   ]
  },
  {
   "cell_type": "markdown",
   "id": "b274a5a9",
   "metadata": {},
   "source": [
    "## start 값 구하기"
   ]
  },
  {
   "cell_type": "markdown",
   "id": "56486676",
   "metadata": {},
   "source": [
    "|   | 0 | 1  | 2  | 3  | 4  |\n",
    "|:-:|:-:|:-:|:-:|:-:|:-:|\n",
    "| 0  |   |   | ■  |   |   |\n",
    "| 1  |   |  ■ | ■  | ■  |   |\n",
    "| 2  | ■  | ■  | ■  | ■  | ■  |\n",
    "| 3  |   | ■  | ■  | ■  |   |\n",
    "| 4  |   |   | ■  |   |   |\n",
    "\n",
    "에서 가장 왼쪽 열 (세로 줄) 을 반복문 i 라고 정하고\n",
    "\n",
    "```\n",
    "for i in range(n):\n",
    "```\n",
    "\n",
    "\n",
    "가장 위쪽 행 (가로 줄) 을 반복문 t 라고 정하겠습니다.\n",
    "\n",
    "```\n",
    "    for t in range(n):\n",
    "```\n",
    "\n",
    "start 값은 반복문 i 값이 증가할 때 변화하는 것을 알 수 있습니다.\n",
    "\n",
    "```\n",
    "start = abs(i - n // 2)\n",
    "```\n",
    "\n",
    "따라서 위와 같은 수식을 만들어 낼 수 있으며 그 결과는 다음과 같습니다."
   ]
  },
  {
   "cell_type": "code",
   "execution_count": 6,
   "id": "d777b0c6",
   "metadata": {},
   "outputs": [],
   "source": [
    "n = 5"
   ]
  },
  {
   "cell_type": "code",
   "execution_count": 7,
   "id": "4bd44660",
   "metadata": {},
   "outputs": [
    {
     "name": "stdout",
     "output_type": "stream",
     "text": [
      "22222\n",
      "11111\n",
      "00000\n",
      "11111\n",
      "22222\n"
     ]
    }
   ],
   "source": [
    "for i in range(n):\n",
    "    for t in range(n):\n",
    "        start = abs(i - n // 2)\n",
    "        print(\"%1.0f\" % start, end = \"\")\n",
    "    print()"
   ]
  },
  {
   "cell_type": "markdown",
   "id": "fc32cfc0",
   "metadata": {},
   "source": [
    "|   | 0 | 1  | 2  | 3  | 4  |\n",
    "|:-:|:-:|:-:|:-:|:-:|:-:|\n",
    "| 0  |   |   | ■  |   |   |\n",
    "| 1  |   |  ■ | ■  | ■  |   |\n",
    "| 2  | ■  | ■  | ■  | ■  | ■  |\n",
    "| 3  |   | ■  | ■  | ■  |   |\n",
    "| 4  |   |   | ■  |   |   |\n",
    "\n",
    "결과를 위 표와 비교해보면\n",
    "\n",
    "start 값은 반복문 i 가 변함에 따라\n",
    "\n",
    "```\n",
    "2 -> 1 -> 0 -> 1 -> 2 \n",
    "```\n",
    "\n",
    "로 변화하는 것을 확인 할 수 있습니다."
   ]
  },
  {
   "cell_type": "markdown",
   "id": "652c2f98",
   "metadata": {},
   "source": [
    "## blocks 값 구하기"
   ]
  },
  {
   "cell_type": "markdown",
   "id": "bb07064a",
   "metadata": {},
   "source": [
    "|   | 0 | 1  | 2  | 3  | 4  |\n",
    "|:-:|:-:|:-:|:-:|:-:|:-:|\n",
    "| 0  |   |   | ■  |   |   |\n",
    "| 1  |   |  ■ | ■  | ■  |   |\n",
    "| 2  | ■  | ■  | ■  | ■  | ■  |\n",
    "| 3  |   | ■  | ■  | ■  |   |\n",
    "| 4  |   |   | ■  |   |   |\n",
    "\n",
    "에서 가장 왼쪽 열 (세로 줄) 을 반복문 i 라고 정하고\n",
    "\n",
    "```\n",
    "for i in range(n):\n",
    "```\n",
    "\n",
    "\n",
    "가장 위쪽 행 (가로 줄) 을 반복문 t 라고 정하겠습니다.\n",
    "\n",
    "```\n",
    "    for t in range(n):\n",
    "```\n",
    "\n",
    "blocks 값은\n",
    "\n",
    "```\n",
    "1 -> 3 -> 5 -> 3 -> 1\n",
    "```\n",
    "\n",
    "로 변화하고 있고, blocks 를 계산 하는 방법은 여러가지가 있는데"
   ]
  },
  {
   "cell_type": "code",
   "execution_count": 12,
   "id": "4595e996",
   "metadata": {},
   "outputs": [
    {
     "name": "stdout",
     "output_type": "stream",
     "text": [
      "11111\n",
      "33333\n",
      "55555\n",
      "33333\n",
      "11111\n"
     ]
    }
   ],
   "source": [
    "for i in range(n):\n",
    "    for t in range(n):\n",
    "        start = abs(i - n // 2)\n",
    "        blocks = blocks = (n / 2 - start) * 2\n",
    "        print(\"%1.0f\" % blocks, end = \"\")\n",
    "    print()"
   ]
  },
  {
   "cell_type": "markdown",
   "id": "2459656a",
   "metadata": {},
   "source": [
    "위와 같이 blocks 값은 start 값에 따라서 얼마나 많은 블럭들를 그려낼 것 인지 결정할 수 있으며,"
   ]
  },
  {
   "cell_type": "code",
   "execution_count": 13,
   "id": "12f2f6a9",
   "metadata": {},
   "outputs": [
    {
     "name": "stdout",
     "output_type": "stream",
     "text": [
      "11111\n",
      "33333\n",
      "55555\n",
      "33333\n",
      "11111\n"
     ]
    }
   ],
   "source": [
    "for i in range(n):\n",
    "    for t in range(n):\n",
    "        blocks = n - abs(i * 2 + 1 - n)\n",
    "        print(\"%1.0f\" % blocks, end = \"\")\n",
    "    print()"
   ]
  },
  {
   "cell_type": "markdown",
   "id": "65f2b2bf",
   "metadata": {},
   "source": [
    "위와 같이 홀수 계산 방식 \n",
    "\n",
    "```\n",
    "(x * 2) + 1\n",
    "```\n",
    "\n",
    "식을 이용하여 계산 할 수 있습니다."
   ]
  },
  {
   "cell_type": "markdown",
   "id": "4bc97c98",
   "metadata": {},
   "source": [
    "# 정리"
   ]
  },
  {
   "cell_type": "code",
   "execution_count": 14,
   "id": "cb617692",
   "metadata": {},
   "outputs": [],
   "source": [
    "n = 11"
   ]
  },
  {
   "cell_type": "code",
   "execution_count": 15,
   "id": "43ada2d2",
   "metadata": {},
   "outputs": [
    {
     "name": "stdout",
     "output_type": "stream",
     "text": [
      "□□□□□■□□□□□\n",
      "□□□□■■■□□□□\n",
      "□□□■■■■■□□□\n",
      "□□■■■■■■■□□\n",
      "□■■■■■■■■■□\n",
      "■■■■■■■■■■■\n",
      "□■■■■■■■■■□\n",
      "□□■■■■■■■□□\n",
      "□□□■■■■■□□□\n",
      "□□□□■■■□□□□\n",
      "□□□□□■□□□□□\n"
     ]
    }
   ],
   "source": [
    "for i in range(n):\n",
    "    for t in range(n):\n",
    "        start = abs(i - n // 2)\n",
    "        blocks = (n / 2 - start) * 2\n",
    "        if start <= t and t < start + blocks:\n",
    "            print(\"■\", end = \"\")\n",
    "        else:\n",
    "            print(\"□\", end = \"\")\n",
    "    print()"
   ]
  },
  {
   "cell_type": "markdown",
   "id": "c5aecc8a",
   "metadata": {},
   "source": [
    "위와 같은 결론이 나오지만\n",
    "\n",
    "사실 더 정확한 답은"
   ]
  },
  {
   "cell_type": "code",
   "execution_count": 16,
   "id": "b09af564",
   "metadata": {},
   "outputs": [],
   "source": [
    "n = 11"
   ]
  },
  {
   "cell_type": "code",
   "execution_count": 17,
   "id": "ebcbdb75",
   "metadata": {},
   "outputs": [
    {
     "name": "stdout",
     "output_type": "stream",
     "text": [
      "□□□□□■□□□□□\n",
      "□□□□■■■□□□□\n",
      "□□□■■■■■□□□\n",
      "□□■■■■■■■□□\n",
      "□■■■■■■■■■□\n",
      "■■■■■■■■■■■\n",
      "□■■■■■■■■■□\n",
      "□□■■■■■■■□□\n",
      "□□□■■■■■□□□\n",
      "□□□□■■■□□□□\n",
      "□□□□□■□□□□□\n"
     ]
    }
   ],
   "source": [
    "for i in range(n):\n",
    "    start = abs(i - n // 2)\n",
    "    blocks = n - abs(i * 2 + 1 - n)\n",
    "    for t in range(n):\n",
    "        if start <= t and t < start + blocks:\n",
    "            print(\"■\", end = \"\")\n",
    "        else:\n",
    "            print(\"□\", end = \"\")\n",
    "    print()"
   ]
  },
  {
   "cell_type": "markdown",
   "id": "53d25615",
   "metadata": {},
   "source": [
    "가 맞겠습니다.\n",
    "\n",
    "start, blocks 값은 i 값이 변화 할 때만 갱신이 되어질 것이므로 \n",
    "\n",
    "t 반복문에서 무의미한 연산을 하여 성능을 떨어 뜨릴 이유가 없기 때문입니다."
   ]
  }
 ],
 "metadata": {
  "kernelspec": {
   "display_name": "Python 3 (ipykernel)",
   "language": "python",
   "name": "python3"
  },
  "language_info": {
   "codemirror_mode": {
    "name": "ipython",
    "version": 3
   },
   "file_extension": ".py",
   "mimetype": "text/x-python",
   "name": "python",
   "nbconvert_exporter": "python",
   "pygments_lexer": "ipython3",
   "version": "3.8.2"
  }
 },
 "nbformat": 4,
 "nbformat_minor": 5
}
