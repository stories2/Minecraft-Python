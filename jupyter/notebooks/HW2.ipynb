{
 "cells": [
  {
   "cell_type": "markdown",
   "id": "2d11ff35",
   "metadata": {},
   "source": [
    "# 문제\n",
    "## 동전 조합하기\n",
    "\n",
    "우리나라는 1, 5, 10, 50, 100, 500 원 동전이 존재합니다.\n",
    "\n",
    "4789 원을 가장 큰 금액의 동전으로 최대한 조합이 되어지게끔 계산을 해주세요.\n",
    "\n",
    "빈칸을 채우시면 됩니다.\n",
    "\n",
    "반복문(while)의 경우 조건에 따라서 무한 반복이 된다고 생각하시면 되며 따라서 반복이 될 조건만 생각해주시면 됩니다.\n",
    "\n",
    "\n",
    "\n",
    "### 실행 결과 예시\n",
    "\n",
    "> 500원 9개,\n",
    ">\n",
    "> 100원 2개,\n",
    ">\n",
    "> 50원 1개,\n",
    ">\n",
    "> 10원 3개,\n",
    ">\n",
    "> 5원 1개,\n",
    ">\n",
    "> 1원 4개\n",
    "\n",
    "![afafafafa](https://user-images.githubusercontent.com/16532326/141608812-610c62e9-845d-4af5-bcb5-2c74f61bdc0c.jpg)"
   ]
  },
  {
   "cell_type": "markdown",
   "id": "3017be05",
   "metadata": {},
   "source": [
    "# 정답"
   ]
  },
  {
   "cell_type": "code",
   "execution_count": 1,
   "id": "ba79c02e",
   "metadata": {},
   "outputs": [],
   "source": [
    "money = 4789\n",
    "coin = 500\n",
    "toggle = True"
   ]
  },
  {
   "cell_type": "markdown",
   "id": "edbad511",
   "metadata": {},
   "source": [
    "money: 교환할 금액 입니다\n",
    "\n",
    "coin: 계산할 동전의 금액\n",
    "\n",
    "toggle: 동전 계산용 토글 변수 500 -> 100 -> 50 -> 10 -> 5 -> 1"
   ]
  },
  {
   "cell_type": "code",
   "execution_count": 2,
   "id": "4b44348b",
   "metadata": {},
   "outputs": [
    {
     "name": "stdout",
     "output_type": "stream",
     "text": [
      "500원 동전 9개\n",
      "100원 동전 2개\n",
      "50원 동전 1개\n",
      "10원 동전 3개\n",
      "5원 동전 1개\n",
      "1원 동전 4개\n"
     ]
    }
   ],
   "source": [
    "while money > 0 and coin > 0:\n",
    "    if money // coin > 0:\n",
    "        print(\"{0}원 동전 {1}개\".format(coin, money // coin))\n",
    "        money = money % coin\n",
    "    if toggle == True:\n",
    "        coin = coin // 5\n",
    "    else:\n",
    "        coin = coin // 2\n",
    "    toggle = not toggle"
   ]
  },
  {
   "cell_type": "markdown",
   "id": "4f2f5d72",
   "metadata": {},
   "source": [
    "# 해설\n",
    "## 동전 패턴 이용하기\n",
    "\n",
    "![IMG_0889](https://user-images.githubusercontent.com/16532326/141608764-487fb607-9a8b-4e14-b209-9fea5f141db7.jpg)\n",
    "\n",
    "동전의 금액이 500 -> 100 -> 50 -> 10 -> 5 -> 1\n",
    "\n",
    "순으로 반복적인 패턴을 보이며 감소하는 것을 알 수 있습니다. \n",
    "\n",
    "이 점을 이용해 단순히 나눗셈으로 여러 동전의 금액을 표현할 수 있음을 알 수 있지만 \n",
    "\n",
    "// 5, // 2 가 번갈아 가면서 나누어지기 때문에 \n",
    "\n",
    "`toggle` 변수를 임시로 생성하여 한번은 5로 나누고, 또 한번은 2로 나누게 되는 것 입니다.\n",
    "\n",
    "이를 계속 반복하다보면 `1원 // 5` 가 되어지는 부분이 생길 것이고 이의 결과는 0 일 것입니다.\n",
    "\n",
    "하지만 동전에선 0 원 이 없기 때문에 \n",
    "\n",
    "조건문 `if coin > 0` 에서 거짓이 되어 반복이 종료 되어집니다"
   ]
  },
  {
   "cell_type": "markdown",
   "id": "92fd612d",
   "metadata": {},
   "source": [
    "## 동전 교환 해보기\n",
    "\n",
    "![IMG_0891](https://user-images.githubusercontent.com/16532326/141609381-abd00198-a7df-494c-bf81-8d8c414d5ad9.jpg)\n",
    "\n",
    "위 `동전 패턴 이용하기` 를 응용하여 나머지를 구현하면\n",
    "\n",
    "변경된 사항으론 \n",
    "```\n",
    "if money > 0 and coin > 0\n",
    "```\n",
    "\n",
    "라는 조건문을 확인 할 수 있습니다. \n",
    "\n",
    "이는 동전이 0 원 이하 인 것이 생기거나, 교환할 금액이 0원 이하인 경우 프로그램을 종료하기 위한 조건입니다.\n",
    "\n",
    "다음 조건으로 \n",
    "\n",
    "```\n",
    "if money // coin > 0\n",
    "```\n",
    "\n",
    "은 현재 동전의 금액으로 교환할 금액을 변환 할 수 있는지 확인 합니다.\n",
    "\n",
    "ex)\n",
    "```\n",
    "4789₩ / 500₩ => 9 개\n",
    "```\n",
    "\n",
    "이 후 4789₩ 은 500₩ 동전 9개로 나누어 졌기 때문에 289₩ 이 남아야 합니다\n",
    "\n",
    "```\n",
    "money = money % coin\n",
    "```\n",
    "\n",
    "ex)\n",
    "\n",
    "```\n",
    "4789₩ % 500₩ => 289₩ (나머지)\n",
    "```\n",
    "\n",
    "이후, 위 과정을 반복만 하면 됩니다."
   ]
  }
 ],
 "metadata": {
  "kernelspec": {
   "display_name": "Python 3 (ipykernel)",
   "language": "python",
   "name": "python3"
  },
  "language_info": {
   "codemirror_mode": {
    "name": "ipython",
    "version": 3
   },
   "file_extension": ".py",
   "mimetype": "text/x-python",
   "name": "python",
   "nbconvert_exporter": "python",
   "pygments_lexer": "ipython3",
   "version": "3.8.2"
  }
 },
 "nbformat": 4,
 "nbformat_minor": 5
}
