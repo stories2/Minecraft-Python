{
 "cells": [
  {
   "cell_type": "code",
   "execution_count": 1,
   "id": "6862e24e",
   "metadata": {},
   "outputs": [],
   "source": [
    "money = 4789\n",
    "coin = 500\n",
    "toggle = True"
   ]
  },
  {
   "cell_type": "code",
   "execution_count": 2,
   "id": "b9bac03e",
   "metadata": {},
   "outputs": [
    {
     "name": "stdout",
     "output_type": "stream",
     "text": [
      "500원 동전 9개\n",
      "100원 동전 2개\n",
      "50원 동전 1개\n",
      "10원 동전 3개\n",
      "5원 동전 1개\n",
      "1원 동전 4개\n"
     ]
    }
   ],
   "source": [
    "while money > 0 and coin > 0:\n",
    "    if money // coin > 0:\n",
    "        print(\"{0}원 동전 {1}개\".format(coin, money // coin))\n",
    "        money = money % coin\n",
    "    if toggle == True:\n",
    "        coin = coin // 5\n",
    "    else:\n",
    "        coin = coin // 2\n",
    "    toggle = not toggle"
   ]
  }
 ],
 "metadata": {
  "kernelspec": {
   "display_name": "Python 3 (ipykernel)",
   "language": "python",
   "name": "python3"
  },
  "language_info": {
   "codemirror_mode": {
    "name": "ipython",
    "version": 3
   },
   "file_extension": ".py",
   "mimetype": "text/x-python",
   "name": "python",
   "nbconvert_exporter": "python",
   "pygments_lexer": "ipython3",
   "version": "3.8.2"
  }
 },
 "nbformat": 4,
 "nbformat_minor": 5
}
