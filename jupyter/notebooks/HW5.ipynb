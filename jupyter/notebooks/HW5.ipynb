{
 "cells": [
  {
   "cell_type": "code",
   "execution_count": 1,
   "id": "3e5dd24a",
   "metadata": {},
   "outputs": [],
   "source": [
    "x = 0\n",
    "y = 0\n",
    "_map = [\n",
    "    [0, 1, 0, 1, 0, 0],\n",
    "    [0, 0, 0, 0, 0, 1],\n",
    "    [0, 1, 0, 1, 0, 0],\n",
    "    [0, 1, 0, 0, 0, 0],\n",
    "    [0, 1, 1, 1, 1, 0],\n",
    "    [0, 0, 0, 1, 2, 0]\n",
    "    ]"
   ]
  },
  {
   "cell_type": "code",
   "execution_count": 2,
   "id": "6cd19cf2",
   "metadata": {},
   "outputs": [],
   "source": [
    "def printMap():\n",
    "    global _map, x, y\n",
    "    for _y in range(len(_map)):\n",
    "        for _x in range(len(_map[_y])):\n",
    "            if x == _x and y == _y:\n",
    "                print(\"◎\", end=\"\")\n",
    "            elif _map[_y][_x] == 0:\n",
    "                print(\"□\", end=\"\")\n",
    "            elif _map[_y][_x] == 1:\n",
    "                print(\"■\", end=\"\")\n",
    "            elif _map[_y][_x] == 2:\n",
    "                print(\"★\", end=\"\")\n",
    "        print()\n",
    "    if _map[y][x] == 2:\n",
    "        print(\"목적지에 도착하였습니다\")"
   ]
  },
  {
   "cell_type": "code",
   "execution_count": 3,
   "id": "5ca5e3da",
   "metadata": {},
   "outputs": [],
   "source": [
    "def handleError():\n",
    "    global x, y\n",
    "    print(f'더 이상 진행할 수 없습니다 x:{x}, y: {y}')"
   ]
  },
  {
   "cell_type": "code",
   "execution_count": 4,
   "id": "3e649eab",
   "metadata": {},
   "outputs": [],
   "source": [
    "def up():\n",
    "    global x, y, _map\n",
    "    if y - 1 >= 0 and _map[y - 1][x] != 1:\n",
    "        y -= 1\n",
    "        printMap()\n",
    "    else:\n",
    "        handleError()"
   ]
  },
  {
   "cell_type": "code",
   "execution_count": 5,
   "id": "7f9b34d3",
   "metadata": {},
   "outputs": [],
   "source": [
    "def right():\n",
    "    global x, y, _map\n",
    "    if x + 1 < len(_map[0]) and _map[y][x + 1] != 1:\n",
    "        x += 1\n",
    "        printMap()\n",
    "    else:\n",
    "        handleError()"
   ]
  },
  {
   "cell_type": "code",
   "execution_count": 6,
   "id": "7090d749",
   "metadata": {},
   "outputs": [],
   "source": [
    "def down():\n",
    "    global x, y, _map\n",
    "    if y + 1 < len(_map) and _map[y + 1][x] != 1:\n",
    "        y += 1\n",
    "        printMap()\n",
    "    else:\n",
    "        handleError()"
   ]
  },
  {
   "cell_type": "code",
   "execution_count": 7,
   "id": "37d20b7d",
   "metadata": {},
   "outputs": [],
   "source": [
    "def left():\n",
    "    global x, y, _map\n",
    "    if x - 1 >= 0 and _map[y][x - 1] != 1:\n",
    "        x -= 1\n",
    "        printMap()\n",
    "    else:\n",
    "        handleError()"
   ]
  },
  {
   "cell_type": "code",
   "execution_count": 8,
   "id": "7b251658",
   "metadata": {},
   "outputs": [
    {
     "name": "stdout",
     "output_type": "stream",
     "text": [
      "◎■□■□□\n",
      "□□□□□■\n",
      "□■□■□□\n",
      "□■□□□□\n",
      "□■■■■□\n",
      "□□□■★□\n"
     ]
    }
   ],
   "source": [
    "printMap()"
   ]
  }
 ],
 "metadata": {
  "kernelspec": {
   "display_name": "Python 3 (ipykernel)",
   "language": "python",
   "name": "python3"
  },
  "language_info": {
   "codemirror_mode": {
    "name": "ipython",
    "version": 3
   },
   "file_extension": ".py",
   "mimetype": "text/x-python",
   "name": "python",
   "nbconvert_exporter": "python",
   "pygments_lexer": "ipython3",
   "version": "3.8.2"
  }
 },
 "nbformat": 4,
 "nbformat_minor": 5
}
