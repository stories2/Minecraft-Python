{
 "cells": [
  {
   "cell_type": "markdown",
   "id": "aef1fcf4",
   "metadata": {},
   "source": [
    "# 미로 탈출하기\n",
    "\n",
    "자유롭게 코딩하여 미로를 탈출하세요. (별표 까지 가면 됩니다)\n",
    "\n",
    "\n",
    "\n",
    "지도 데이터와 움직임 제어 함수가 주어집니다.\n",
    "\n",
    "지도 데이터: _map\n",
    "\n",
    "움직임 함수: up(), down(), right(), left()\n",
    "\n",
    "첨부파일 확인하시거나 밑에 코드를 참조하면 됩니다.\n",
    "\n",
    "밑에 코드가 들여쓰기가 되어있지 않습니다. 가능하면 첨부파일의 내용을 활용하시기 바랍니다."
   ]
  },
  {
   "cell_type": "code",
   "execution_count": 1,
   "id": "ffa31dd4",
   "metadata": {},
   "outputs": [],
   "source": [
    "x = 0\n",
    "y = 0\n",
    "_map = [\n",
    "    [0, 1, 0, 1, 0, 0],\n",
    "    [0, 0, 0, 0, 0, 1],\n",
    "    [0, 1, 0, 1, 0, 0],\n",
    "    [0, 1, 0, 0, 0, 0],\n",
    "    [0, 1, 1, 1, 1, 0],\n",
    "    [0, 0, 0, 1, 2, 0]\n",
    "    ]"
   ]
  },
  {
   "cell_type": "code",
   "execution_count": 2,
   "id": "18d3d8be",
   "metadata": {},
   "outputs": [],
   "source": [
    "def printMap():\n",
    "    global _map, x, y\n",
    "    for _y in range(len(_map)):\n",
    "        for _x in range(len(_map[_y])):\n",
    "            if x == _x and y == _y:\n",
    "                print(\"◎\", end=\"\")\n",
    "            elif _map[_y][_x] == 0:\n",
    "                print(\"□\", end=\"\")\n",
    "            elif _map[_y][_x] == 1:\n",
    "                print(\"■\", end=\"\")\n",
    "            elif _map[_y][_x] == 2:\n",
    "                print(\"★\", end=\"\")\n",
    "        print()\n",
    "    if _map[y][x] == 2:\n",
    "        print(\"목적지에 도착하였습니다\")"
   ]
  },
  {
   "cell_type": "code",
   "execution_count": 3,
   "id": "4e611fca",
   "metadata": {},
   "outputs": [],
   "source": [
    "def handleError():\n",
    "    global x, y\n",
    "    print(f'더 이상 진행할 수 없습니다 x:{x}, y: {y}')"
   ]
  },
  {
   "cell_type": "code",
   "execution_count": 4,
   "id": "e6811956",
   "metadata": {},
   "outputs": [],
   "source": [
    "def up():\n",
    "    global x, y, _map\n",
    "    if y - 1 >= 0 and _map[y - 1][x] != 1:\n",
    "        y -= 1\n",
    "        printMap()\n",
    "    else:\n",
    "        handleError()"
   ]
  },
  {
   "cell_type": "code",
   "execution_count": 5,
   "id": "0ca8e1f5",
   "metadata": {},
   "outputs": [],
   "source": [
    "def right():\n",
    "    global x, y, _map\n",
    "    if x + 1 < len(_map[0]) and _map[y][x + 1] != 1:\n",
    "        x += 1\n",
    "        printMap()\n",
    "    else:\n",
    "        handleError()"
   ]
  },
  {
   "cell_type": "code",
   "execution_count": 6,
   "id": "2d2dfdab",
   "metadata": {},
   "outputs": [],
   "source": [
    "def down():\n",
    "    global x, y, _map\n",
    "    if y + 1 < len(_map) and _map[y + 1][x] != 1:\n",
    "        y += 1\n",
    "        printMap()\n",
    "    else:\n",
    "        handleError()"
   ]
  },
  {
   "cell_type": "code",
   "execution_count": 7,
   "id": "908864f8",
   "metadata": {},
   "outputs": [],
   "source": [
    "def left():\n",
    "    global x, y, _map\n",
    "    if x - 1 >= 0 and _map[y][x - 1] != 1:\n",
    "        x -= 1\n",
    "        printMap()\n",
    "    else:\n",
    "        handleError()"
   ]
  },
  {
   "cell_type": "code",
   "execution_count": 8,
   "id": "48ddf5e7",
   "metadata": {},
   "outputs": [
    {
     "name": "stdout",
     "output_type": "stream",
     "text": [
      "◎■□■□□\n",
      "□□□□□■\n",
      "□■□■□□\n",
      "□■□□□□\n",
      "□■■■■□\n",
      "□□□■★□\n"
     ]
    }
   ],
   "source": [
    "printMap()"
   ]
  },
  {
   "cell_type": "markdown",
   "id": "b44c5914",
   "metadata": {},
   "source": [
    "# 정답"
   ]
  },
  {
   "cell_type": "code",
   "execution_count": 9,
   "id": "30149bed",
   "metadata": {},
   "outputs": [
    {
     "name": "stdout",
     "output_type": "stream",
     "text": [
      "□■□■□□\n",
      "◎□□□□■\n",
      "□■□■□□\n",
      "□■□□□□\n",
      "□■■■■□\n",
      "□□□■★□\n",
      "----\n",
      "□■□■□□\n",
      "□◎□□□■\n",
      "□■□■□□\n",
      "□■□□□□\n",
      "□■■■■□\n",
      "□□□■★□\n",
      "----\n",
      "□■□■□□\n",
      "□□◎□□■\n",
      "□■□■□□\n",
      "□■□□□□\n",
      "□■■■■□\n",
      "□□□■★□\n",
      "----\n",
      "□■□■□□\n",
      "□□□◎□■\n",
      "□■□■□□\n",
      "□■□□□□\n",
      "□■■■■□\n",
      "□□□■★□\n",
      "----\n",
      "□■□■□□\n",
      "□□□□◎■\n",
      "□■□■□□\n",
      "□■□□□□\n",
      "□■■■■□\n",
      "□□□■★□\n",
      "----\n",
      "□■□■□□\n",
      "□□□□□■\n",
      "□■□■◎□\n",
      "□■□□□□\n",
      "□■■■■□\n",
      "□□□■★□\n",
      "----\n",
      "□■□■□□\n",
      "□□□□□■\n",
      "□■□■□□\n",
      "□■□□◎□\n",
      "□■■■■□\n",
      "□□□■★□\n",
      "----\n",
      "□■□■□□\n",
      "□□□□□■\n",
      "□■□■□□\n",
      "□■□□□◎\n",
      "□■■■■□\n",
      "□□□■★□\n",
      "----\n",
      "□■□■□□\n",
      "□□□□□■\n",
      "□■□■□□\n",
      "□■□□□□\n",
      "□■■■■◎\n",
      "□□□■★□\n",
      "----\n",
      "□■□■□□\n",
      "□□□□□■\n",
      "□■□■□□\n",
      "□■□□□□\n",
      "□■■■■□\n",
      "□□□■★◎\n",
      "----\n",
      "□■□■□□\n",
      "□□□□□■\n",
      "□■□■□□\n",
      "□■□□□□\n",
      "□■■■■□\n",
      "□□□■◎□\n",
      "목적지에 도착하였습니다\n"
     ]
    }
   ],
   "source": [
    "down()\n",
    "print(\"----\")\n",
    "right()\n",
    "print(\"----\")\n",
    "right()\n",
    "print(\"----\")\n",
    "right()\n",
    "print(\"----\")\n",
    "right()\n",
    "print(\"----\")\n",
    "down()\n",
    "print(\"----\")\n",
    "down()\n",
    "print(\"----\")\n",
    "right()\n",
    "print(\"----\")\n",
    "down()\n",
    "print(\"----\")\n",
    "down()\n",
    "print(\"----\")\n",
    "left()"
   ]
  },
  {
   "cell_type": "markdown",
   "id": "b8705bf6",
   "metadata": {},
   "source": [
    "# 해설\n",
    "\n",
    "각 함수는 \n",
    "\n",
    "```\n",
    "◎■□■□□\n",
    "□□□□□■\n",
    "□■□■□□\n",
    "□■□□□□\n",
    "□■■■■□\n",
    "□□□■★□\n",
    "```\n",
    "\n",
    "의 맵 정보에서 `◎` 를 상하좌우로 이동시킬 수 있는 함수로 \n",
    "\n",
    "구현되어 있어 호출만으로 쉽게 이동시킬 수 있습니다."
   ]
  },
  {
   "cell_type": "markdown",
   "id": "eaeb94f6",
   "metadata": {},
   "source": [
    "## 코드 리팩터링"
   ]
  },
  {
   "cell_type": "markdown",
   "id": "0a47f30d",
   "metadata": {},
   "source": [
    "하지만 위 작업은 같은 함수를 중복으로 호출하고 있기 때문에\n",
    "\n",
    "코드가 길어져 가독성을 해칠 수 있습니다.\n",
    "\n",
    "따라서 많은 해결책이 있겠지만 리팩터링을 하는 방식으로 코드를 줄여볼까 합니다.\n",
    "\n",
    "리팩터링(refactoring)은 `리팩터링은 소프트웨어 공학에서 '결과의 변경 없이 코드의 구조를 재조정함'을 뜻한다.` 라는 뜻이며\n",
    "\n",
    "주로 가독성과 유지보수 향상을 위해 진행을 합니다.\n",
    "\n",
    "```\n",
    "def up()\n",
    "```\n",
    "\n",
    "내용을 보면"
   ]
  },
  {
   "cell_type": "code",
   "execution_count": 10,
   "id": "de193973",
   "metadata": {},
   "outputs": [],
   "source": [
    "def up():\n",
    "    global x, y, _map\n",
    "    if y - 1 >= 0 and _map[y - 1][x] != 1:\n",
    "        y -= 1\n",
    "        printMap()\n",
    "    else:\n",
    "        handleError()"
   ]
  },
  {
   "cell_type": "markdown",
   "id": "0e392b45",
   "metadata": {},
   "source": [
    "무조건 1칸씩만 이동하게 구현이 되어있습니다.\n",
    "\n",
    "이를 파라미터를 받아들여, 이동할 거리를 입력으로 받을 수 있게끔 개선을 시키면 중복 호출시 코드를 좀 더 줄일 수 있을 것입니다."
   ]
  },
  {
   "cell_type": "code",
   "execution_count": 11,
   "id": "e62d2a22",
   "metadata": {},
   "outputs": [],
   "source": [
    "def up(steps):\n",
    "    global x, y, _map\n",
    "    if y - steps >= 0 and _map[y - steps][x] != 1:\n",
    "        y -= steps\n",
    "        printMap()\n",
    "    else:\n",
    "        handleError()"
   ]
  },
  {
   "cell_type": "markdown",
   "id": "4ca3fbf9",
   "metadata": {},
   "source": [
    "다른 함수들도 마찬가지로 개선을 시켜보겠습니다"
   ]
  },
  {
   "cell_type": "code",
   "execution_count": 12,
   "id": "683a2adc",
   "metadata": {},
   "outputs": [],
   "source": [
    "def right(steps):\n",
    "    global x, y, _map\n",
    "    if x + steps < len(_map[0]) and _map[y][x + steps] != 1:\n",
    "        x += steps\n",
    "        printMap()\n",
    "    else:\n",
    "        handleError()"
   ]
  },
  {
   "cell_type": "code",
   "execution_count": 13,
   "id": "c9a71cc0",
   "metadata": {},
   "outputs": [],
   "source": [
    "def down(steps):\n",
    "    global x, y, _map\n",
    "    if y + steps < len(_map) and _map[y + steps][x] != 1:\n",
    "        y += steps\n",
    "        printMap()\n",
    "    else:\n",
    "        handleError()"
   ]
  },
  {
   "cell_type": "code",
   "execution_count": 14,
   "id": "0a2a439f",
   "metadata": {},
   "outputs": [],
   "source": [
    "def left(steps):\n",
    "    global x, y, _map\n",
    "    if x - steps >= 0 and _map[y][x - steps] != 1:\n",
    "        x -= steps\n",
    "        printMap()\n",
    "    else:\n",
    "        handleError()"
   ]
  },
  {
   "cell_type": "code",
   "execution_count": 15,
   "id": "96082a1d",
   "metadata": {},
   "outputs": [],
   "source": [
    "x = 0\n",
    "y = 0"
   ]
  },
  {
   "cell_type": "code",
   "execution_count": 16,
   "id": "e594e4df",
   "metadata": {},
   "outputs": [
    {
     "name": "stdout",
     "output_type": "stream",
     "text": [
      "□■□■□□\n",
      "◎□□□□■\n",
      "□■□■□□\n",
      "□■□□□□\n",
      "□■■■■□\n",
      "□□□■★□\n",
      "----\n",
      "□■□■□□\n",
      "□□□□◎■\n",
      "□■□■□□\n",
      "□■□□□□\n",
      "□■■■■□\n",
      "□□□■★□\n",
      "----\n",
      "□■□■□□\n",
      "□□□□□■\n",
      "□■□■□□\n",
      "□■□□◎□\n",
      "□■■■■□\n",
      "□□□■★□\n",
      "----\n",
      "□■□■□□\n",
      "□□□□□■\n",
      "□■□■□□\n",
      "□■□□□◎\n",
      "□■■■■□\n",
      "□□□■★□\n",
      "----\n",
      "□■□■□□\n",
      "□□□□□■\n",
      "□■□■□□\n",
      "□■□□□□\n",
      "□■■■■□\n",
      "□□□■★◎\n",
      "----\n",
      "□■□■□□\n",
      "□□□□□■\n",
      "□■□■□□\n",
      "□■□□□□\n",
      "□■■■■□\n",
      "□□□■◎□\n",
      "목적지에 도착하였습니다\n"
     ]
    }
   ],
   "source": [
    "down(1)\n",
    "print(\"----\")\n",
    "right(4)\n",
    "print(\"----\")\n",
    "down(2)\n",
    "print(\"----\")\n",
    "right(1)\n",
    "print(\"----\")\n",
    "down(2)\n",
    "print(\"----\")\n",
    "left(1)"
   ]
  },
  {
   "cell_type": "markdown",
   "id": "207f1616",
   "metadata": {},
   "source": [
    "좀 더 줄어들은 코드로 목적지까지 이동시킬 수 있었습니다.\n",
    "\n",
    "하지만 여기서도 문제점이 있습니다.\n",
    "\n",
    "- 무조건 입력값을 주어야 함\n",
    "- 입력파라미터를 0 혹은 음수로 넘겨줄시 제자리이나 백스탭 걸음이 가능함\n",
    "\n",
    "위 문제를 해결해 봅시다"
   ]
  },
  {
   "cell_type": "code",
   "execution_count": 17,
   "id": "357c5921",
   "metadata": {},
   "outputs": [],
   "source": [
    "def up(steps = 1):\n",
    "    global x, y, _map\n",
    "    if steps > 0 and y - steps >= 0 and _map[y - steps][x] != 1:\n",
    "        y -= steps\n",
    "        printMap()\n",
    "    else:\n",
    "        handleError()"
   ]
  },
  {
   "cell_type": "markdown",
   "id": "e2035cbb",
   "metadata": {},
   "source": [
    "```\n",
    "def up(steps = 1):\n",
    "```\n",
    "\n",
    "로 steps 에 파라미터를 넘겨주지 않으면 무조건 기본 값으로 1이 되어질 것입니다.\n",
    "\n",
    "```\n",
    "if steps > 0 and y - steps >= 0 and _map[y - steps][x] != 1:\n",
    "```\n",
    "\n",
    "에서\n",
    "\n",
    "```\n",
    "steps > 0\n",
    "```\n",
    "\n",
    "조건을 추가하였기 때문에 제자리 걸음과, 백스탭이 불가능해지게 되었습니다."
   ]
  },
  {
   "cell_type": "markdown",
   "id": "53a33d4b",
   "metadata": {},
   "source": [
    "또한 출력시에도\n",
    "\n",
    "```\n",
    "print(\"----\")\n",
    "```\n",
    "\n",
    "내용을 반복하고 있으므로 \n",
    "\n",
    "```\n",
    "def printMap():\n",
    "```\n",
    "\n",
    "내용 밑에 \n",
    "\n",
    "```\n",
    "print()\n",
    "```\n",
    "\n",
    "호출을 하여 줄간격을 띄워주겠습니다."
   ]
  },
  {
   "cell_type": "code",
   "execution_count": 18,
   "id": "c4a1d4ca",
   "metadata": {},
   "outputs": [],
   "source": [
    "def printMap():\n",
    "    global _map, x, y\n",
    "    for _y in range(len(_map)):\n",
    "        for _x in range(len(_map[_y])):\n",
    "            if x == _x and y == _y:\n",
    "                print(\"◎\", end=\"\")\n",
    "            elif _map[_y][_x] == 0:\n",
    "                print(\"□\", end=\"\")\n",
    "            elif _map[_y][_x] == 1:\n",
    "                print(\"■\", end=\"\")\n",
    "            elif _map[_y][_x] == 2:\n",
    "                print(\"★\", end=\"\")\n",
    "        print()\n",
    "    print()\n",
    "    if _map[y][x] == 2:\n",
    "        print(\"목적지에 도착하였습니다\")"
   ]
  },
  {
   "cell_type": "code",
   "execution_count": 19,
   "id": "247abce9",
   "metadata": {},
   "outputs": [],
   "source": [
    "def right(steps = 1):\n",
    "    global x, y, _map\n",
    "    if steps > 0 and x + steps < len(_map[0]) and _map[y][x + steps] != 1:\n",
    "        x += steps\n",
    "        printMap()\n",
    "    else:\n",
    "        handleError()"
   ]
  },
  {
   "cell_type": "code",
   "execution_count": 20,
   "id": "20a56093",
   "metadata": {},
   "outputs": [],
   "source": [
    "def down(steps = 1):\n",
    "    global x, y, _map\n",
    "    if steps > 0 and y + steps < len(_map) and _map[y + steps][x] != 1:\n",
    "        y += steps\n",
    "        printMap()\n",
    "    else:\n",
    "        handleError()"
   ]
  },
  {
   "cell_type": "code",
   "execution_count": 21,
   "id": "4281dd40",
   "metadata": {},
   "outputs": [],
   "source": [
    "def left(steps = 1):\n",
    "    global x, y, _map\n",
    "    if steps > 0 and x - steps >= 0 and _map[y][x - steps] != 1:\n",
    "        x -= steps\n",
    "        printMap()\n",
    "    else:\n",
    "        handleError()"
   ]
  },
  {
   "cell_type": "code",
   "execution_count": 22,
   "id": "6830b061",
   "metadata": {},
   "outputs": [],
   "source": [
    "x = 0\n",
    "y = 0"
   ]
  },
  {
   "cell_type": "code",
   "execution_count": 23,
   "id": "9dfe9caf",
   "metadata": {},
   "outputs": [
    {
     "name": "stdout",
     "output_type": "stream",
     "text": [
      "□■□■□□\n",
      "◎□□□□■\n",
      "□■□■□□\n",
      "□■□□□□\n",
      "□■■■■□\n",
      "□□□■★□\n",
      "\n",
      "□■□■□□\n",
      "□□□□◎■\n",
      "□■□■□□\n",
      "□■□□□□\n",
      "□■■■■□\n",
      "□□□■★□\n",
      "\n",
      "□■□■□□\n",
      "□□□□□■\n",
      "□■□■□□\n",
      "□■□□◎□\n",
      "□■■■■□\n",
      "□□□■★□\n",
      "\n",
      "□■□■□□\n",
      "□□□□□■\n",
      "□■□■□□\n",
      "□■□□□◎\n",
      "□■■■■□\n",
      "□□□■★□\n",
      "\n",
      "□■□■□□\n",
      "□□□□□■\n",
      "□■□■□□\n",
      "□■□□□□\n",
      "□■■■■□\n",
      "□□□■★◎\n",
      "\n",
      "□■□■□□\n",
      "□□□□□■\n",
      "□■□■□□\n",
      "□■□□□□\n",
      "□■■■■□\n",
      "□□□■◎□\n",
      "\n",
      "목적지에 도착하였습니다\n"
     ]
    }
   ],
   "source": [
    "down()\n",
    "right(4)\n",
    "down(2)\n",
    "right()\n",
    "down(2)\n",
    "left()"
   ]
  },
  {
   "cell_type": "markdown",
   "id": "2d76e5ad",
   "metadata": {},
   "source": [
    "좀 더 클린한 코드가 만들어 진 것을 알 수 있습니다."
   ]
  }
 ],
 "metadata": {
  "kernelspec": {
   "display_name": "Python 3 (ipykernel)",
   "language": "python",
   "name": "python3"
  },
  "language_info": {
   "codemirror_mode": {
    "name": "ipython",
    "version": 3
   },
   "file_extension": ".py",
   "mimetype": "text/x-python",
   "name": "python",
   "nbconvert_exporter": "python",
   "pygments_lexer": "ipython3",
   "version": "3.8.2"
  }
 },
 "nbformat": 4,
 "nbformat_minor": 5
}
