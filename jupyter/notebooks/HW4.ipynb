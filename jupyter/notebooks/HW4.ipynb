{
 "cells": [
  {
   "cell_type": "markdown",
   "id": "322c144d",
   "metadata": {},
   "source": [
    "# 문제 \n",
    "\n",
    "구구단 출력\n",
    "구구단을 출력하시면 됩니다.\n",
    "\n",
    "아래 빈칸을 채워 넣어주세요.\n",
    "\n",
    "![asdf](https://user-images.githubusercontent.com/16532326/143598113-b57aaaea-2018-4ac4-8597-64e4cb2edc21.png)"
   ]
  },
  {
   "cell_type": "markdown",
   "id": "9f2fedae",
   "metadata": {},
   "source": [
    "# 정답"
   ]
  },
  {
   "cell_type": "code",
   "execution_count": 3,
   "id": "f1c11374",
   "metadata": {},
   "outputs": [
    {
     "name": "stdout",
     "output_type": "stream",
     "text": [
      " 1 x  1 =  1| 2 x  1 =  2| 3 x  1 =  3| 4 x  1 =  4| 5 x  1 =  5| 6 x  1 =  6| 7 x  1 =  7| 8 x  1 =  8| 9 x  1 =  9|\n",
      " 1 x  2 =  2| 2 x  2 =  4| 3 x  2 =  6| 4 x  2 =  8| 5 x  2 = 10| 6 x  2 = 12| 7 x  2 = 14| 8 x  2 = 16| 9 x  2 = 18|\n",
      " 1 x  3 =  3| 2 x  3 =  6| 3 x  3 =  9| 4 x  3 = 12| 5 x  3 = 15| 6 x  3 = 18| 7 x  3 = 21| 8 x  3 = 24| 9 x  3 = 27|\n",
      " 1 x  4 =  4| 2 x  4 =  8| 3 x  4 = 12| 4 x  4 = 16| 5 x  4 = 20| 6 x  4 = 24| 7 x  4 = 28| 8 x  4 = 32| 9 x  4 = 36|\n",
      " 1 x  5 =  5| 2 x  5 = 10| 3 x  5 = 15| 4 x  5 = 20| 5 x  5 = 25| 6 x  5 = 30| 7 x  5 = 35| 8 x  5 = 40| 9 x  5 = 45|\n",
      " 1 x  6 =  6| 2 x  6 = 12| 3 x  6 = 18| 4 x  6 = 24| 5 x  6 = 30| 6 x  6 = 36| 7 x  6 = 42| 8 x  6 = 48| 9 x  6 = 54|\n",
      " 1 x  7 =  7| 2 x  7 = 14| 3 x  7 = 21| 4 x  7 = 28| 5 x  7 = 35| 6 x  7 = 42| 7 x  7 = 49| 8 x  7 = 56| 9 x  7 = 63|\n",
      " 1 x  8 =  8| 2 x  8 = 16| 3 x  8 = 24| 4 x  8 = 32| 5 x  8 = 40| 6 x  8 = 48| 7 x  8 = 56| 8 x  8 = 64| 9 x  8 = 72|\n",
      " 1 x  9 =  9| 2 x  9 = 18| 3 x  9 = 27| 4 x  9 = 36| 5 x  9 = 45| 6 x  9 = 54| 7 x  9 = 63| 8 x  9 = 72| 9 x  9 = 81|\n"
     ]
    }
   ],
   "source": [
    "for i in range(1, 10):\n",
    "    for t in range(1, 10):\n",
    "        print (\"%2.0f x %2.0f = %2.0f\" % (t, i, t *i), end = \"|\")\n",
    "    print()"
   ]
  },
  {
   "cell_type": "markdown",
   "id": "02f3f3de",
   "metadata": {},
   "source": [
    "n x m = n * m \n",
    "\n",
    "결과 중 n 의 값이 가로 방향으로 커지는 형태이므로\n",
    "\n",
    "n 의 자리에는 t 가, m 의 자리에는 i 값이 오면 됩니다.\n",
    "\n",
    "좀 더 이쁘게 보이기 위해 정수부분은 2자리를 차지하도록 포멧을 지정하였습니다. \n",
    "\n",
    "`%2.0f` \n",
    "\n",
    "2 부분은 정수, .0 부분은 소숫점 부분입니다."
   ]
  },
  {
   "cell_type": "code",
   "execution_count": 5,
   "id": "ef78b895",
   "metadata": {},
   "outputs": [
    {
     "name": "stdout",
     "output_type": "stream",
     "text": [
      " 1 x  1 =  1| 2 x  1 =  2| 3 x  1 =  3| 4 x  1 =  4| 5 x  1 =  5| 6 x  1 =  6| 7 x  1 =  7| 8 x  1 =  8| 9 x  1 =  9|\n",
      " 1 x  2 =  2| 2 x  2 =  4| 3 x  2 =  6| 4 x  2 =  8| 5 x  2 = 10| 6 x  2 = 12| 7 x  2 = 14| 8 x  2 = 16| 9 x  2 = 18|\n",
      " 1 x  3 =  3| 2 x  3 =  6| 3 x  3 =  9| 4 x  3 = 12| 5 x  3 = 15| 6 x  3 = 18| 7 x  3 = 21| 8 x  3 = 24| 9 x  3 = 27|\n",
      " 1 x  4 =  4| 2 x  4 =  8| 3 x  4 = 12| 4 x  4 = 16| 5 x  4 = 20| 6 x  4 = 24| 7 x  4 = 28| 8 x  4 = 32| 9 x  4 = 36|\n",
      " 1 x  5 =  5| 2 x  5 = 10| 3 x  5 = 15| 4 x  5 = 20| 5 x  5 = 25| 6 x  5 = 30| 7 x  5 = 35| 8 x  5 = 40| 9 x  5 = 45|\n",
      " 1 x  6 =  6| 2 x  6 = 12| 3 x  6 = 18| 4 x  6 = 24| 5 x  6 = 30| 6 x  6 = 36| 7 x  6 = 42| 8 x  6 = 48| 9 x  6 = 54|\n",
      " 1 x  7 =  7| 2 x  7 = 14| 3 x  7 = 21| 4 x  7 = 28| 5 x  7 = 35| 6 x  7 = 42| 7 x  7 = 49| 8 x  7 = 56| 9 x  7 = 63|\n",
      " 1 x  8 =  8| 2 x  8 = 16| 3 x  8 = 24| 4 x  8 = 32| 5 x  8 = 40| 6 x  8 = 48| 7 x  8 = 56| 8 x  8 = 64| 9 x  8 = 72|\n",
      " 1 x  9 =  9| 2 x  9 = 18| 3 x  9 = 27| 4 x  9 = 36| 5 x  9 = 45| 6 x  9 = 54| 7 x  9 = 63| 8 x  9 = 72| 9 x  9 = 81|\n"
     ]
    }
   ],
   "source": [
    "for i in range(1, 10):\n",
    "    for t in range(1, 10):\n",
    "        print (f'{t:>2} x {i:>2} = {(i*t):>2}', end = \"|\")\n",
    "    print()"
   ]
  },
  {
   "cell_type": "markdown",
   "id": "9cf5a81e",
   "metadata": {},
   "source": [
    "f-string 포멧을 이용해서도 동일한 결과를 얻을 수 있습니다.\n",
    "\n",
    "- `:<n`: 왼쪽 정렬 \n",
    "- `:^n`: 가운데 정렬\n",
    "- `:>n`: 오른쪽 정렬"
   ]
  },
  {
   "cell_type": "markdown",
   "id": "ace5046e",
   "metadata": {},
   "source": [
    "# 번외, 미로찾기"
   ]
  },
  {
   "cell_type": "code",
   "execution_count": 61,
   "id": "175141b3",
   "metadata": {},
   "outputs": [],
   "source": [
    "_map = [\n",
    "    [0, 1, 0, 1, 1],\n",
    "    [0, 0, 0, 0, 0],\n",
    "    [1, 0, 1, 0, 1],\n",
    "    [0, 0, 1, 0, 1],\n",
    "    [0, 1, 1, 0, 2]\n",
    "]\n",
    "startX = 0\n",
    "startY = 0\n",
    "\n",
    "findCnt = 0"
   ]
  },
  {
   "cell_type": "markdown",
   "id": "773d62da",
   "metadata": {},
   "source": [
    "지도로 사용할 배열 `_map` 을 선언합니다.\n",
    "\n",
    "0 값은 길, 1 값은 벽, 2 값은 도착 지점입니다.\n",
    "\n",
    "startX, startY 변수로 시작할 위치를 지정합니다.\n",
    "\n",
    "findCnt 값은 몇번의 시도로 경로를 찾았는지를 저장하는 변수입니다."
   ]
  },
  {
   "cell_type": "code",
   "execution_count": 62,
   "id": "e84f186e",
   "metadata": {},
   "outputs": [],
   "source": [
    "def printMap(_map):\n",
    "    charMap = [ '①', '②', '③', '④', '⑤', '⑥', '⑦', '⑧', '⑨', '⑩', '⑪', '⑫', '⑬', '⑭', '⑮']\n",
    "    for row in _map:\n",
    "        for col in row:\n",
    "            if col == 0:\n",
    "                print(\"□\", end = \"\")\n",
    "            elif col == 1:\n",
    "                print (\"■\", end = \"\")\n",
    "            elif col == 2:\n",
    "                print (\"★\")\n",
    "            elif col < 0:\n",
    "                print (charMap[abs(col) - 1], end = \"\")\n",
    "        print()"
   ]
  },
  {
   "cell_type": "code",
   "execution_count": 63,
   "id": "f0f996b9",
   "metadata": {},
   "outputs": [
    {
     "name": "stdout",
     "output_type": "stream",
     "text": [
      "□■□■■\n",
      "□□□□□\n",
      "■□■□■\n",
      "□□■□■\n",
      "□■■□★\n",
      "\n"
     ]
    }
   ],
   "source": [
    "printMap(_map)"
   ]
  },
  {
   "cell_type": "markdown",
   "id": "de44f82e",
   "metadata": {},
   "source": [
    "이중 반복문으로 지도 정보를 출력하는 함수입니다.\n",
    "\n",
    "`charMap` 은 몇번째 발자국인지를 나타내기위한 단순 출력용 배열입니다."
   ]
  },
  {
   "cell_type": "code",
   "execution_count": 64,
   "id": "daf83c6b",
   "metadata": {},
   "outputs": [],
   "source": [
    "def findGoal(_x, _y, _cnt, _map):\n",
    "    global findCnt\n",
    "    if len(_map) <= 0 or len (_map[0]) <= 0 or \\\n",
    "        _x < 0 or _x >= len(_map[0]) or \\\n",
    "        _y < 0 or _y >= len(_map) or \\\n",
    "        (_map[_y][_x] != 0 and _map[_y][_x] != 2):\n",
    "        return\n",
    "    findCnt += 1\n",
    "    if _map[_y][_x] == 2:\n",
    "        print (f'{findCnt:>2}번 만에 {abs(_cnt):>2}길이의 경로 찾음')\n",
    "        return\n",
    "    _map[_y][_x] = _cnt\n",
    "    printMap(_map)\n",
    "    findGoal(_x, _y + 1, _cnt - 1, _map)\n",
    "    findGoal(_x + 1, _y, _cnt - 1, _map)\n",
    "    findGoal(_x, _y - 1, _cnt - 1, _map)\n",
    "    findGoal(_x - 1, _y, _cnt - 1, _map)\n",
    "    _map[_y][_x] = 0\n",
    "    return "
   ]
  },
  {
   "cell_type": "markdown",
   "id": "92461930",
   "metadata": {},
   "source": [
    "findGoal 이름의 함수를 정의하였습니다.\n",
    "\n",
    "```\n",
    "def findGoal(_x, _y, _cnt, _map):\n",
    "```\n",
    "\n",
    "연산을 할 xy 좌표, 몇번째 길이, 지도 정보를 입력으로 받아 들입니다.\n",
    "\n",
    "```\n",
    "if len(_map) <= 0 or len (_map[0]) <= 0 or \\\n",
    "        _x < 0 or _x >= len(_map[0]) or \\\n",
    "        _y < 0 or _y >= len(_map) or \\\n",
    "        (_map[_y][_x] != 0 and _map[_y][_x] != 2):\n",
    "        return\n",
    "```\n",
    "\n",
    "밑에 처리를 하기 전에 현재 바라보는 좌표의 정보의 유효성을 검사합니다.\n",
    "\n",
    "지도 밖으로 나가진 않았는지, 벽이 자리하고 있는 위치는 아닌지를 검사합니다.\n",
    "\n",
    "```\n",
    "if _map[_y][_x] == 2:\n",
    "        print (f'{findCnt:>2}번 만에 {abs(_cnt):>2}길이의 경로 찾음')\n",
    "        return\n",
    "```\n",
    "\n",
    "만약 현재 자리한 위치가 도착지점이면 도착했음을 알리고 함수를 빠져나옵니다.\n",
    "\n",
    "```\n",
    "_map[_y][_x] = _cnt\n",
    "```\n",
    "\n",
    "헨젤과 그레텔 처럼 자기가 지나온 발자국을 남깁니다.\n",
    "\n",
    "```\n",
    "    findGoal(_x, _y + 1, _cnt - 1, _map)\n",
    "    findGoal(_x + 1, _y, _cnt - 1, _map)\n",
    "    findGoal(_x, _y - 1, _cnt - 1, _map)\n",
    "    findGoal(_x - 1, _y, _cnt - 1, _map)\n",
    "```\n",
    "\n",
    "4 방향을 한번씩 검사하는 로직입니다.\n",
    "\n",
    "함수 자기 자신을 호출하면서 재귀적으로 경로를 찾아가게 됩니다.\n",
    "\n",
    "순서대로 `_x, _y + 1` 방향 즉, 아래를 먼저 검사를 하게됩니다.\n",
    "\n",
    "위 검사는 더 이상 유효하지 않을 때까지 자기자신 함수를 반복하면서 호출하며,\n",
    "\n",
    "이를 깊이우선탐색 DFS 라고 합니다.\n",
    "\n",
    "\n",
    "\n",
    "대략적으로 그림으로 나타내면 위와 같습니다."
   ]
  },
  {
   "cell_type": "code",
   "execution_count": 65,
   "id": "2f9da8db",
   "metadata": {},
   "outputs": [
    {
     "name": "stdout",
     "output_type": "stream",
     "text": [
      "①■□■■\n",
      "□□□□□\n",
      "■□■□■\n",
      "□□■□■\n",
      "□■■□★\n",
      "\n",
      "①■□■■\n",
      "②□□□□\n",
      "■□■□■\n",
      "□□■□■\n",
      "□■■□★\n",
      "\n",
      "①■□■■\n",
      "②③□□□\n",
      "■□■□■\n",
      "□□■□■\n",
      "□■■□★\n",
      "\n",
      "①■□■■\n",
      "②③□□□\n",
      "■④■□■\n",
      "□□■□■\n",
      "□■■□★\n",
      "\n",
      "①■□■■\n",
      "②③□□□\n",
      "■④■□■\n",
      "□⑤■□■\n",
      "□■■□★\n",
      "\n",
      "①■□■■\n",
      "②③□□□\n",
      "■④■□■\n",
      "⑥⑤■□■\n",
      "□■■□★\n",
      "\n",
      "①■□■■\n",
      "②③□□□\n",
      "■④■□■\n",
      "⑥⑤■□■\n",
      "⑦■■□★\n",
      "\n",
      "①■□■■\n",
      "②③④□□\n",
      "■□■□■\n",
      "□□■□■\n",
      "□■■□★\n",
      "\n",
      "①■□■■\n",
      "②③④⑤□\n",
      "■□■□■\n",
      "□□■□■\n",
      "□■■□★\n",
      "\n",
      "①■□■■\n",
      "②③④⑤□\n",
      "■□■⑥■\n",
      "□□■□■\n",
      "□■■□★\n",
      "\n",
      "①■□■■\n",
      "②③④⑤□\n",
      "■□■⑥■\n",
      "□□■⑦■\n",
      "□■■□★\n",
      "\n",
      "①■□■■\n",
      "②③④⑤□\n",
      "■□■⑥■\n",
      "□□■⑦■\n",
      "□■■⑧★\n",
      "\n",
      "13번 만에  9길이의 경로 찾음\n",
      "①■□■■\n",
      "②③④⑤⑥\n",
      "■□■□■\n",
      "□□■□■\n",
      "□■■□★\n",
      "\n",
      "①■⑤■■\n",
      "②③④□□\n",
      "■□■□■\n",
      "□□■□■\n",
      "□■■□★\n",
      "\n"
     ]
    }
   ],
   "source": [
    "findGoal(startX, startY, -1, _map)"
   ]
  },
  {
   "cell_type": "code",
   "execution_count": null,
   "id": "b43d707e",
   "metadata": {},
   "outputs": [],
   "source": []
  }
 ],
 "metadata": {
  "kernelspec": {
   "display_name": "Python 3 (ipykernel)",
   "language": "python",
   "name": "python3"
  },
  "language_info": {
   "codemirror_mode": {
    "name": "ipython",
    "version": 3
   },
   "file_extension": ".py",
   "mimetype": "text/x-python",
   "name": "python",
   "nbconvert_exporter": "python",
   "pygments_lexer": "ipython3",
   "version": "3.8.2"
  }
 },
 "nbformat": 4,
 "nbformat_minor": 5
}
