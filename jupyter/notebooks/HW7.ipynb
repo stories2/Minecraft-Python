{
 "cells": [
  {
   "cell_type": "markdown",
   "id": "b69047c3",
   "metadata": {},
   "source": [
    "# 테트리스 기능 추가하기\n",
    "\n",
    "테트리스를 만들어봅시다.\n",
    "이번에는 기능추가 건 입니다. \n",
    "\n",
    "기존 테트리스에는 점수 시스템이 없었습니다. \n",
    "\n",
    "이를 해결하기 위해 addScore 함수를 준비하였지만 내용으론 무조건 0점으로 지정하게끔 구현되어있습니다.\n",
    "\n",
    "해당 부분을 수정하면 됩니다\n",
    "\n",
    "첨부파일 HW7.py 참조\n",
    "\n",
    "\n",
    "\n",
    "원하는 내용은 다음과 같습니다.\n",
    "\n",
    "블록이 한칸 아래로 내려갈 때 마다 10 점씩 추가\n",
    "\n",
    "라인을 클리어 할 시 1000점 추가\n",
    "\n",
    "\n",
    "\n",
    "블록 조종 함수\n",
    "\n",
    "왼쪽으로 한칸 이동 : left()\n",
    "\n",
    "오른쪽으로 한칸 이동 : right()\n",
    "\n",
    "아래로 한칸 내리기 혹은 한번에 내리기 : down() or down(shoot=True)\n",
    "\n",
    "블록 회전하기 : rotateBlock()"
   ]
  },
  {
   "cell_type": "code",
   "execution_count": 1,
   "id": "20b6195e",
   "metadata": {},
   "outputs": [],
   "source": [
    "import math\n",
    "from random import randrange\n",
    "import time"
   ]
  },
  {
   "cell_type": "code",
   "execution_count": 2,
   "id": "58e81958",
   "metadata": {},
   "outputs": [],
   "source": [
    "colors = [14, 1, 4, 5, 3, 11, 10]"
   ]
  },
  {
   "cell_type": "code",
   "execution_count": 3,
   "id": "fab63dc3",
   "metadata": {},
   "outputs": [],
   "source": [
    "tetris = [\n",
    "    [0, 0, 0, 0, 0, 0, 0, 0, 0],\n",
    "    [0, 0, 0, 0, 0, 0, 0, 0, 0],\n",
    "    [0, 0, 0, 0, 0, 0, 0, 0, 0],\n",
    "    [0, 0, 0, 0, 0, 0, 0, 0, 0],\n",
    "    [0, 0, 0, 0, 0, 0, 0, 0, 0],\n",
    "    [0, 0, 0, 0, 0, 0, 0, 0, 1],\n",
    "    [0, 0, 0, 0, 0, 0, 0, 0, 1],\n",
    "    [1, 0, 0, 0, 0, 0, 0, 0, 1],\n",
    "    [1, 1, 0, 0, 0, 0, 0, 1, 1],\n",
    "    [1, 1, 0, 0, 0, 0, 1, 1, 1],\n",
    "    [1, 1, 0, 0, 1, 1, 1, 1, 1],\n",
    "    [1, 1, 1, 0, 1, 1, 1, 1, 1],\n",
    "    [1, 1, 1, 0, 1, 1, 1, 1, 1],\n",
    "    [1, 1, 1, 1, 1, 1, 0, 1, 1]\n",
    "]"
   ]
  },
  {
   "cell_type": "code",
   "execution_count": 4,
   "id": "f90d0aec",
   "metadata": {},
   "outputs": [],
   "source": [
    "blocks = [\n",
    "    # 1 1\n",
    "    #   1\n",
    "    #   1\n",
    "    [\n",
    "        [0, 0, 0, 0],\n",
    "        [0, 0, 0, 1],\n",
    "        [0, 1, 1, 1],\n",
    "        [0, 0, 0, 0],\n",
    "\n",
    "        [0, 1, 0, 0],\n",
    "        [0, 1, 0, 0],\n",
    "        [0, 1, 1, 0],\n",
    "        [0, 0, 0, 0],\n",
    "\n",
    "        [0, 0, 0, 0],\n",
    "        [0, 1, 1, 1],\n",
    "        [0, 1, 0, 0],\n",
    "        [0, 0, 0, 0],\n",
    "\n",
    "        [0, 1, 1, 0],\n",
    "        [0, 0, 1, 0],\n",
    "        [0, 0, 1, 0],\n",
    "        [0, 0, 0, 0],\n",
    "    ],\n",
    "    # 1\n",
    "    # 1 1 1\n",
    "    [\n",
    "        [0, 0, 0, 0],\n",
    "        [0, 1, 0, 0],\n",
    "        [0, 1, 1, 1],\n",
    "        [0, 0, 0, 0],\n",
    "        \n",
    "        [0, 0, 1, 0],\n",
    "        [0, 0, 1, 0],\n",
    "        [0, 1, 1, 0],\n",
    "        [0, 0, 0, 0],\n",
    "        \n",
    "        [0, 1, 1, 1],\n",
    "        [0, 0, 0, 1],\n",
    "        [0, 0, 0, 0],\n",
    "        [0, 0, 0, 0],\n",
    "        \n",
    "        [0, 1, 1, 0],\n",
    "        [0, 1, 0, 0],\n",
    "        [0, 1, 0, 0],\n",
    "        [0, 0, 0, 0],\n",
    "    ],\n",
    "    # 1 1\n",
    "    # 1 1\n",
    "    [\n",
    "        [0, 0, 0, 0],\n",
    "        [0, 1, 1, 0],\n",
    "        [0, 1, 1, 0],\n",
    "        [0, 0, 0, 0],\n",
    "        \n",
    "        [0, 0, 0, 0],\n",
    "        [0, 1, 1, 0],\n",
    "        [0, 1, 1, 0],\n",
    "        [0, 0, 0, 0],\n",
    "        \n",
    "        [0, 0, 0, 0],\n",
    "        [0, 1, 1, 0],\n",
    "        [0, 1, 1, 0],\n",
    "        [0, 0, 0, 0],\n",
    "        \n",
    "        [0, 0, 0, 0],\n",
    "        [0, 1, 1, 0],\n",
    "        [0, 1, 1, 0],\n",
    "        [0, 0, 0, 0],\n",
    "    ],\n",
    "    [\n",
    "        [0, 0, 0, 0],\n",
    "        [0, 0, 1, 1],\n",
    "        [0, 1, 1, 0],\n",
    "        [0, 0, 0, 0],\n",
    "        \n",
    "        [0, 1, 0, 0],\n",
    "        [0, 1, 1, 0],\n",
    "        [0, 0, 1, 0],\n",
    "        [0, 0, 0, 0],\n",
    "        \n",
    "        [0, 0, 0, 0],\n",
    "        [0, 0, 1, 1],\n",
    "        [0, 1, 1, 0],\n",
    "        [0, 0, 0, 0],\n",
    "        \n",
    "        [0, 1, 0, 0],\n",
    "        [0, 1, 1, 0],\n",
    "        [0, 0, 1, 0],\n",
    "        [0, 0, 0, 0],\n",
    "    ],\n",
    "    [\n",
    "        [0, 0, 0, 0],\n",
    "        [0, 0, 1, 0],\n",
    "        [0, 1, 1, 1],\n",
    "        [0, 0, 0, 0],\n",
    "        \n",
    "        [0, 0, 1, 0],\n",
    "        [0, 1, 1, 0],\n",
    "        [0, 0, 1, 0],\n",
    "        [0, 0, 0, 0],\n",
    "        \n",
    "        [0, 0, 0, 0],\n",
    "        [0, 1, 1, 1],\n",
    "        [0, 0, 1, 0],\n",
    "        [0, 0, 0, 0],\n",
    "        \n",
    "        [0, 1, 0, 0],\n",
    "        [0, 1, 1, 0],\n",
    "        [0, 1, 0, 0],\n",
    "        [0, 0, 0, 0],\n",
    "    ],\n",
    "    [\n",
    "        [0, 0, 0, 0],\n",
    "        [0, 1, 1, 0],\n",
    "        [0, 0, 1, 1],\n",
    "        [0, 0, 0, 0],\n",
    "        \n",
    "        [0, 0, 1, 0],\n",
    "        [0, 1, 1, 0],\n",
    "        [0, 1, 0, 0],\n",
    "        [0, 0, 0, 0],\n",
    "        \n",
    "        [0, 0, 0, 0],\n",
    "        [0, 1, 1, 0],\n",
    "        [0, 0, 1, 1],\n",
    "        [0, 0, 0, 0],\n",
    "        \n",
    "        [0, 0, 1, 0],\n",
    "        [0, 1, 1, 0],\n",
    "        [0, 1, 0, 0],\n",
    "        [0, 0, 0, 0],\n",
    "    ],\n",
    "    [\n",
    "        [0, 0, 0, 0],\n",
    "        [1, 1, 1, 1],\n",
    "        [0, 0, 0, 0],\n",
    "        [0, 0, 0, 0],\n",
    "        \n",
    "        [0, 0, 1, 0],\n",
    "        [0, 0, 1, 0],\n",
    "        [0, 0, 1, 0],\n",
    "        [0, 0, 1, 0],\n",
    "        \n",
    "        [0, 0, 0, 0],\n",
    "        [1, 1, 1, 1],\n",
    "        [0, 0, 0, 0],\n",
    "        [0, 0, 0, 0],\n",
    "        \n",
    "        [0, 0, 1, 0],\n",
    "        [0, 0, 1, 0],\n",
    "        [0, 0, 1, 0],\n",
    "        [0, 0, 1, 0],\n",
    "    ]\n",
    "]"
   ]
  },
  {
   "cell_type": "code",
   "execution_count": 5,
   "id": "681ecf3b",
   "metadata": {},
   "outputs": [],
   "source": [
    "x = 2\n",
    "y = 0\n",
    "rotate = 0\n",
    "shape = 3\n",
    "score = 0"
   ]
  },
  {
   "cell_type": "code",
   "execution_count": 6,
   "id": "10c3bb55",
   "metadata": {},
   "outputs": [],
   "source": [
    "def printTetris():\n",
    "    global tetris, blocks, x, y, shape, rotate, colors, score\n",
    "    for _y in range(len(tetris)):\n",
    "        for _x in range(len(tetris[_y])):\n",
    "#             print(x, y, _x, _y, _x <= x, _y <= y, x < _x + 4, y < _y + 4)\n",
    "            if _x >= x and _y >= y \\\n",
    "                and _x < x + 4 and _y < y + 4 \\\n",
    "                and blocks[shape][_y - y + rotate * 4][_x - x] != 0:\n",
    "                print(\"▒\", end=\"\")\n",
    "            elif tetris[_y][_x] != 0:\n",
    "                print(\"■\", end=\"\")\n",
    "            elif tetris[_y][_x] == 0:\n",
    "                print(\"□\", end=\"\")\n",
    "        print()\n",
    "    print(f'score: {score:5}\\n')\n"
   ]
  },
  {
   "cell_type": "code",
   "execution_count": 7,
   "id": "e8341c8f",
   "metadata": {},
   "outputs": [
    {
     "name": "stdout",
     "output_type": "stream",
     "text": [
      "□□□□□□□□□\n",
      "□□□□▒▒□□□\n",
      "□□□▒▒□□□□\n",
      "□□□□□□□□□\n",
      "□□□□□□□□□\n",
      "□□□□□□□□■\n",
      "□□□□□□□□■\n",
      "■□□□□□□□■\n",
      "■■□□□□□■■\n",
      "■■□□□□■■■\n",
      "■■□□■■■■■\n",
      "■■■□■■■■■\n",
      "■■■□■■■■■\n",
      "■■■■■■□■■\n",
      "score:     0\n",
      "\n"
     ]
    }
   ],
   "source": [
    "printTetris()"
   ]
  },
  {
   "cell_type": "markdown",
   "id": "c22e4155",
   "metadata": {},
   "source": [
    "# Tetris code"
   ]
  },
  {
   "cell_type": "code",
   "execution_count": 8,
   "id": "98636489",
   "metadata": {},
   "outputs": [],
   "source": [
    "COLLISION_TYPE_BOARD = 1\n",
    "COLLISION_TYPE_BLOCK = 2\n",
    "COLLISION_TYPE_NA = 0"
   ]
  },
  {
   "cell_type": "code",
   "execution_count": 9,
   "id": "97b05fde",
   "metadata": {},
   "outputs": [],
   "source": [
    "def isOutOfBoard(x, y, shape, rotate):\n",
    "    global tetris, blocks\n",
    "    for _y in range(4):\n",
    "        for _x in range(4):\n",
    "            if blocks[shape][_y + 4 * rotate][_x] != 0 and \\\n",
    "                (x + _x < 0 or x + _x >= len(tetris[0]) or y + _y < 0 or y + _y >= len(tetris)):\n",
    "                return COLLISION_TYPE_BOARD\n",
    "    return COLLISION_TYPE_NA"
   ]
  },
  {
   "cell_type": "code",
   "execution_count": 10,
   "id": "734d6d3f",
   "metadata": {},
   "outputs": [
    {
     "data": {
      "text/plain": [
       "0"
      ]
     },
     "execution_count": 10,
     "metadata": {},
     "output_type": "execute_result"
    }
   ],
   "source": [
    "isOutOfBoard(5, 11, 3, 0)"
   ]
  },
  {
   "cell_type": "code",
   "execution_count": 11,
   "id": "367a8a54",
   "metadata": {},
   "outputs": [],
   "source": [
    "def isCollisionWithBlocks(x, y, shape, rotate):\n",
    "    global tetris, blocks\n",
    "    for _y in range(4):\n",
    "        for _x in range(4):\n",
    "            if blocks[shape][_y + 4 * rotate][_x] != 0 and \\\n",
    "                (y + _y >= 0 and y + _y < len(tetris) and x + _x >= 0 and x + _x < len(tetris[0])) and \\\n",
    "                tetris[y + _y][x + _x] != 0:\n",
    "                return COLLISION_TYPE_BLOCK\n",
    "    return COLLISION_TYPE_NA"
   ]
  },
  {
   "cell_type": "code",
   "execution_count": 12,
   "id": "97bc5250",
   "metadata": {},
   "outputs": [
    {
     "data": {
      "text/plain": [
       "(2, 0)"
      ]
     },
     "execution_count": 12,
     "metadata": {},
     "output_type": "execute_result"
    }
   ],
   "source": [
    "isCollisionWithBlocks(2, 8, 3, 0), isCollisionWithBlocks(2, 7, 3, 0)"
   ]
  },
  {
   "cell_type": "code",
   "execution_count": 13,
   "id": "3f0aee60",
   "metadata": {},
   "outputs": [],
   "source": [
    "def mergeBlock():\n",
    "    global tetris, blocks, rotate, x, y, shape\n",
    "    for _y in range(4):\n",
    "        for _x in range(4):\n",
    "            if blocks[shape][_y + rotate * 4][_x] != 0 and \\\n",
    "                not (_x + x < 0 or _x + x >= len(tetris[0]) or _y + y < 0 or _y + y >= len(tetris)):\n",
    "                tetris[y + _y][x + _x] = blocks[shape][_y + rotate * 4][_x]"
   ]
  },
  {
   "cell_type": "code",
   "execution_count": 14,
   "id": "dbc8f7f7",
   "metadata": {},
   "outputs": [],
   "source": [
    "def randomNewBlock():\n",
    "    global blocks, x, y, rotate, shape\n",
    "    x = 2\n",
    "    y = 0\n",
    "    rotate = 0\n",
    "    shape = randrange(0, len(blocks))"
   ]
  },
  {
   "cell_type": "code",
   "execution_count": 15,
   "id": "e3bbbbec",
   "metadata": {},
   "outputs": [],
   "source": [
    "def removeLineChecker():\n",
    "    global tetris\n",
    "    for _y in range(len(tetris)):\n",
    "        removeAvaliable = True\n",
    "        for _x in range(len(tetris[_y])):\n",
    "            if tetris[_y][_x] == 0:\n",
    "                removeAvaliable = False\n",
    "                break\n",
    "        if removeAvaliable:\n",
    "            removeLine(_y)\n",
    "            shiftLine(_y)"
   ]
  },
  {
   "cell_type": "code",
   "execution_count": 16,
   "id": "bcfff64d",
   "metadata": {},
   "outputs": [],
   "source": [
    "def removeLine(y):\n",
    "    global tetris\n",
    "    for _x in range(len(tetris[y])):\n",
    "        tetris[y][_x] = 0"
   ]
  },
  {
   "cell_type": "code",
   "execution_count": 17,
   "id": "eaaf7a3d",
   "metadata": {},
   "outputs": [],
   "source": [
    "def shiftLine(y):\n",
    "    for _y in range(y, 0, -1):\n",
    "        for _x in range(len(tetris[_y])):\n",
    "            tetris[_y][_x] = tetris[_y - 1][_x]"
   ]
  },
  {
   "cell_type": "code",
   "execution_count": 18,
   "id": "82f31ff2",
   "metadata": {},
   "outputs": [],
   "source": [
    "def addScore(increaseScore = 0):\n",
    "    global score\n",
    "    score = 0"
   ]
  },
  {
   "cell_type": "code",
   "execution_count": 19,
   "id": "c9783c7e",
   "metadata": {},
   "outputs": [],
   "source": [
    "def down(shoot = False):\n",
    "    global tetris, blocks, x, y, shape, rotate\n",
    "    \n",
    "    while isOutOfBoard(x, y + 1, shape, rotate) == COLLISION_TYPE_NA and \\\n",
    "            isCollisionWithBlocks(x, y + 1, shape, rotate) == COLLISION_TYPE_NA:\n",
    "        y = y + 1\n",
    "        addScore()\n",
    "        if not shoot:\n",
    "            break\n",
    "    \n",
    "    if isCollisionWithBlocks(x, y + 1, shape, rotate) == COLLISION_TYPE_BLOCK or \\\n",
    "        isOutOfBoard(x, y + 1, shape, rotate) == COLLISION_TYPE_BOARD:\n",
    "        mergeBlock()\n",
    "        removeLineChecker()\n",
    "        randomNewBlock()\n",
    "        addScore()"
   ]
  },
  {
   "cell_type": "code",
   "execution_count": 20,
   "id": "5983c109",
   "metadata": {},
   "outputs": [],
   "source": [
    "def left():\n",
    "    global tetris, blocks, x, y, shape, rotate\n",
    "    \n",
    "    if isCollisionWithBlocks(x - 1, y, shape, rotate) == COLLISION_TYPE_NA and \\\n",
    "        isOutOfBoard(x - 1, y, shape, rotate) == COLLISION_TYPE_NA:\n",
    "        x = x - 1"
   ]
  },
  {
   "cell_type": "code",
   "execution_count": 21,
   "id": "0a95dc8e",
   "metadata": {},
   "outputs": [],
   "source": [
    "def right():\n",
    "    global tetris, blocks, x, y, shape, rotate\n",
    "    \n",
    "    if isCollisionWithBlocks(x + 1, y, shape, rotate) == COLLISION_TYPE_NA and \\\n",
    "        isOutOfBoard(x + 1, y, shape, rotate) == COLLISION_TYPE_NA:\n",
    "        x = x + 1"
   ]
  },
  {
   "cell_type": "code",
   "execution_count": 22,
   "id": "c56716ad",
   "metadata": {},
   "outputs": [],
   "source": [
    "def rotateBlock():\n",
    "    global tetris, blocks, x, y, shape, rotate\n",
    "    \n",
    "    if isCollisionWithBlocks(x, y, shape, (rotate + 1) % 4) == COLLISION_TYPE_NA and \\\n",
    "        isOutOfBoard(x, y, shape, (rotate + 1) % 4) == COLLISION_TYPE_NA:\n",
    "        rotate = (rotate + 1) % 4"
   ]
  },
  {
   "cell_type": "code",
   "execution_count": 23,
   "id": "814b9bc5",
   "metadata": {},
   "outputs": [],
   "source": [
    "tetris = [\n",
    "    [0, 0, 0, 0, 0, 0, 0, 0, 0],\n",
    "    [0, 0, 0, 0, 0, 0, 0, 0, 0],\n",
    "    [0, 0, 0, 0, 0, 0, 0, 0, 0],\n",
    "    [0, 0, 0, 0, 0, 0, 0, 0, 0],\n",
    "    [0, 0, 0, 0, 0, 0, 0, 0, 0],\n",
    "    [0, 0, 0, 0, 0, 0, 0, 0, 1],\n",
    "    [0, 0, 0, 0, 0, 0, 0, 0, 1],\n",
    "    [1, 0, 0, 0, 0, 0, 0, 0, 1],\n",
    "    [1, 1, 0, 0, 0, 0, 0, 1, 1],\n",
    "    [1, 1, 0, 0, 0, 0, 1, 1, 1],\n",
    "    [1, 1, 0, 0, 0, 1, 1, 1, 1],\n",
    "    [1, 1, 1, 0, 0, 1, 1, 1, 1],\n",
    "    [1, 1, 1, 0, 1, 1, 1, 1, 1],\n",
    "    [1, 1, 1, 1, 1, 1, 0, 1, 1]\n",
    "]"
   ]
  },
  {
   "cell_type": "code",
   "execution_count": 24,
   "id": "85ffb2b7",
   "metadata": {},
   "outputs": [],
   "source": [
    "x = 2\n",
    "y = 0\n",
    "rotate = 0\n",
    "shape = 5\n",
    "score = 0"
   ]
  },
  {
   "cell_type": "code",
   "execution_count": 25,
   "id": "7565d8d9",
   "metadata": {},
   "outputs": [
    {
     "name": "stdout",
     "output_type": "stream",
     "text": [
      "□□□□□□□□□\n",
      "□□□▒▒□□□□\n",
      "□□□□▒▒□□□\n",
      "□□□□□□□□□\n",
      "□□□□□□□□□\n",
      "□□□□□□□□■\n",
      "□□□□□□□□■\n",
      "■□□□□□□□■\n",
      "■■□□□□□■■\n",
      "■■□□□□■■■\n",
      "■■□□□■■■■\n",
      "■■■□□■■■■\n",
      "■■■□■■■■■\n",
      "■■■■■■□■■\n",
      "score:     0\n",
      "\n"
     ]
    }
   ],
   "source": [
    "printTetris()"
   ]
  },
  {
   "cell_type": "code",
   "execution_count": 26,
   "id": "b6c47244",
   "metadata": {},
   "outputs": [],
   "source": [
    "#randomNewBlock()\n",
    "#printTetris()"
   ]
  },
  {
   "cell_type": "code",
   "execution_count": 27,
   "id": "93963f4b",
   "metadata": {},
   "outputs": [],
   "source": [
    "# lastKey = getPosition()\n",
    "# KEY_LEFT = Vec3(3,6,14)\n",
    "# KEY_RIGHT = Vec3(5,6,14)\n",
    "# KEY_DOWN = Vec3(4,6,15)\n",
    "# KEY_ROTATE = Vec3(4,6,13)\n",
    "\n",
    "# downSpeed = 10\n",
    "# playTimeCounter = 0"
   ]
  },
  {
   "cell_type": "code",
   "execution_count": 28,
   "id": "ea34a06f",
   "metadata": {},
   "outputs": [],
   "source": [
    "# while not (y == 0 and isCollisionWithBlocks(x, y, shape, rotate)):\n",
    "    \n",
    "#     if lastKey != getPosition():\n",
    "#         lastKey = getPosition()\n",
    "        \n",
    "#         if lastKey == KEY_LEFT:\n",
    "#             left()\n",
    "#         elif lastKey == KEY_RIGHT:\n",
    "#             right()\n",
    "#         elif lastKey == KEY_DOWN:\n",
    "#             down(shoot=True)\n",
    "#         elif lastKey == KEY_ROTATE:\n",
    "#             rotateBlock()\n",
    "    \n",
    "#     playTimeCounter += 1\n",
    "    \n",
    "#     if playTimeCounter % downSpeed == 0:\n",
    "#         down()\n",
    "#     printTetris()\n",
    "    \n",
    "#     time.sleep(0.1)"
   ]
  },
  {
   "cell_type": "code",
   "execution_count": 29,
   "id": "ae0178eb",
   "metadata": {},
   "outputs": [],
   "source": [
    "# \"Game Over!\""
   ]
  },
  {
   "cell_type": "markdown",
   "id": "5d0c79ae",
   "metadata": {},
   "source": [
    "# 정답"
   ]
  },
  {
   "cell_type": "code",
   "execution_count": 30,
   "id": "357bd9d8",
   "metadata": {},
   "outputs": [],
   "source": [
    "def addScore(increaseScore = 0):\n",
    "    global score\n",
    "    score = score + increaseScore # add score using param [increaseScore]"
   ]
  },
  {
   "cell_type": "code",
   "execution_count": 31,
   "id": "a6945327",
   "metadata": {},
   "outputs": [],
   "source": [
    "def down(shoot = False):\n",
    "    global tetris, blocks, x, y, shape, rotate\n",
    "    \n",
    "    while isOutOfBoard(x, y + 1, shape, rotate) == COLLISION_TYPE_NA and \\\n",
    "            isCollisionWithBlocks(x, y + 1, shape, rotate) == COLLISION_TYPE_NA:\n",
    "        y = y + 1\n",
    "        addScore(increaseScore=10) # <---\n",
    "        # Every time the block is going down, call addScore method with param [increaseScore] set value 10\n",
    "        if not shoot:\n",
    "            break\n",
    "    \n",
    "    if isCollisionWithBlocks(x, y + 1, shape, rotate) == COLLISION_TYPE_BLOCK or \\\n",
    "        isOutOfBoard(x, y + 1, shape, rotate) == COLLISION_TYPE_BOARD:\n",
    "        mergeBlock()\n",
    "        removeLineChecker()\n",
    "        randomNewBlock()\n",
    "#        addScore() <-- Remove this line"
   ]
  },
  {
   "cell_type": "code",
   "execution_count": 32,
   "id": "9861b976",
   "metadata": {},
   "outputs": [],
   "source": [
    "def removeLineChecker():\n",
    "    global tetris\n",
    "    for _y in range(len(tetris)):\n",
    "        removeAvaliable = True\n",
    "        for _x in range(len(tetris[_y])):\n",
    "            if tetris[_y][_x] == 0:\n",
    "                removeAvaliable = False\n",
    "                break\n",
    "        if removeAvaliable:\n",
    "            addScore(increaseScore=1000) # <---\n",
    "            # If line clear avaliable, increase score 1000\n",
    "            removeLine(_y)\n",
    "            shiftLine(_y)"
   ]
  },
  {
   "cell_type": "code",
   "execution_count": 33,
   "id": "d126d538",
   "metadata": {},
   "outputs": [
    {
     "name": "stdout",
     "output_type": "stream",
     "text": [
      "□□□□□□□□□\n",
      "□□□▒▒□□□□\n",
      "□□□□▒▒□□□\n",
      "□□□□□□□□□\n",
      "□□□□□□□□□\n",
      "□□□□□□□□■\n",
      "□□□□□□□□■\n",
      "■□□□□□□□■\n",
      "■■□□□□□■■\n",
      "■■□□□□■■■\n",
      "■■□□□■■■■\n",
      "■■■□□■■■■\n",
      "■■■□■■■■■\n",
      "■■■■■■□■■\n",
      "score:     0\n",
      "\n"
     ]
    }
   ],
   "source": [
    "printTetris()"
   ]
  },
  {
   "cell_type": "markdown",
   "id": "a3fea337",
   "metadata": {},
   "source": [
    "초기 상태 확인"
   ]
  },
  {
   "cell_type": "code",
   "execution_count": 34,
   "id": "11958c7b",
   "metadata": {},
   "outputs": [
    {
     "name": "stdout",
     "output_type": "stream",
     "text": [
      "□□□□▒□□□□\n",
      "□□□▒▒□□□□\n",
      "□□□▒□□□□□\n",
      "□□□□□□□□□\n",
      "□□□□□□□□□\n",
      "□□□□□□□□■\n",
      "□□□□□□□□■\n",
      "■□□□□□□□■\n",
      "■■□□□□□■■\n",
      "■■□□□□■■■\n",
      "■■□□□■■■■\n",
      "■■■□□■■■■\n",
      "■■■□■■■■■\n",
      "■■■■■■□■■\n",
      "score:     0\n",
      "\n"
     ]
    }
   ],
   "source": [
    "rotateBlock()\n",
    "printTetris()"
   ]
  },
  {
   "cell_type": "code",
   "execution_count": 35,
   "id": "bbdce251",
   "metadata": {},
   "outputs": [
    {
     "name": "stdout",
     "output_type": "stream",
     "text": [
      "□□□□□□□□□\n",
      "□□□□▒□□□□\n",
      "□□□▒▒□□□□\n",
      "□□□▒□□□□□\n",
      "□□□□□□□□□\n",
      "□□□□□□□□■\n",
      "□□□□□□□□■\n",
      "■□□□□□□□■\n",
      "■■□□□□□■■\n",
      "■■□□□□■■■\n",
      "■■□□□■■■■\n",
      "■■■□□■■■■\n",
      "■■■□■■■■■\n",
      "■■■■■■□■■\n",
      "score:    10\n",
      "\n"
     ]
    }
   ],
   "source": [
    "down()\n",
    "printTetris()"
   ]
  },
  {
   "cell_type": "code",
   "execution_count": 36,
   "id": "1825fab1",
   "metadata": {},
   "outputs": [
    {
     "name": "stdout",
     "output_type": "stream",
     "text": [
      "□□□□□□□□□\n",
      "□□□□□□□□□\n",
      "□□□□□□□□□\n",
      "□□□□□□□□□\n",
      "□□□□□□□□□\n",
      "□□□□□□□□■\n",
      "□□□□□□□□■\n",
      "■□□□□□□□■\n",
      "■■□□□□□■■\n",
      "■■□□▒□■■■\n",
      "■■□▒▒■■■■\n",
      "■■■▒□■■■■\n",
      "■■■□■■■■■\n",
      "■■■■■■□■■\n",
      "score:    90\n",
      "\n"
     ]
    }
   ],
   "source": [
    "for i in range(8):\n",
    "    down()\n",
    "printTetris()"
   ]
  },
  {
   "cell_type": "markdown",
   "id": "5d18ef67",
   "metadata": {},
   "source": [
    "한칸 더 내리면 2줄 라인 클리어가 되면서 2000점이 추가 될겁니다"
   ]
  },
  {
   "cell_type": "code",
   "execution_count": 37,
   "id": "932be53e",
   "metadata": {},
   "outputs": [
    {
     "name": "stdout",
     "output_type": "stream",
     "text": [
      "□□□□□□□□□\n",
      "□□□▒□□□□□\n",
      "□□□▒▒▒□□□\n",
      "□□□□□□□□□\n",
      "□□□□□□□□□\n",
      "□□□□□□□□□\n",
      "□□□□□□□□□\n",
      "□□□□□□□□■\n",
      "□□□□□□□□■\n",
      "■□□□□□□□■\n",
      "■■□□□□□■■\n",
      "■■□□□□■■■\n",
      "■■□□■■■■■\n",
      "■■■■■■□■■\n",
      "score:  2100\n",
      "\n"
     ]
    }
   ],
   "source": [
    "down()\n",
    "printTetris()"
   ]
  }
 ],
 "metadata": {
  "kernelspec": {
   "display_name": "Python 3 (ipykernel)",
   "language": "python",
   "name": "python3"
  },
  "language_info": {
   "codemirror_mode": {
    "name": "ipython",
    "version": 3
   },
   "file_extension": ".py",
   "mimetype": "text/x-python",
   "name": "python",
   "nbconvert_exporter": "python",
   "pygments_lexer": "ipython3",
   "version": "3.8.2"
  }
 },
 "nbformat": 4,
 "nbformat_minor": 5
}
