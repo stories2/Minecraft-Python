{
 "cells": [
  {
   "cell_type": "code",
   "execution_count": 1,
   "id": "902e52a0",
   "metadata": {},
   "outputs": [],
   "source": [
    "import mcpi.minecraft as minecraft\n",
    "import mcpi.block as block"
   ]
  },
  {
   "cell_type": "code",
   "execution_count": 2,
   "id": "a2d71a75",
   "metadata": {},
   "outputs": [],
   "source": [
    "colors = [14, 1, 4, 5, 3, 11, 10]"
   ]
  },
  {
   "cell_type": "code",
   "execution_count": 4,
   "id": "13d8fae4",
   "metadata": {},
   "outputs": [],
   "source": [
    "mc = minecraft.Minecraft.create(address=\"minecraft_server\")\n",
    "mc.postToChat(\"Make rainbow color blocks\")"
   ]
  },
  {
   "cell_type": "code",
   "execution_count": 5,
   "id": "311e3792",
   "metadata": {},
   "outputs": [],
   "source": [
    "x = 0\n",
    "for color in colors:\n",
    "    mc.setBlock(x, 5, 2, block.WOOL.id, color)\n",
    "    x += 1"
   ]
  },
  {
   "cell_type": "markdown",
   "id": "c3afa166",
   "metadata": {},
   "source": [
    "![img](https://user-images.githubusercontent.com/16532326/139576776-6dfc938a-055b-43eb-b954-3fa42baf766f.png)"
   ]
  }
 ],
 "metadata": {
  "kernelspec": {
   "display_name": "Python 3 (ipykernel)",
   "language": "python",
   "name": "python3"
  },
  "language_info": {
   "codemirror_mode": {
    "name": "ipython",
    "version": 3
   },
   "file_extension": ".py",
   "mimetype": "text/x-python",
   "name": "python",
   "nbconvert_exporter": "python",
   "pygments_lexer": "ipython3",
   "version": "3.8.2"
  }
 },
 "nbformat": 4,
 "nbformat_minor": 5
}
