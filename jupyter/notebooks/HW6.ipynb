{
 "cells": [
  {
   "cell_type": "code",
   "execution_count": 1,
   "id": "6428c5a7",
   "metadata": {},
   "outputs": [],
   "source": [
    "tetris = [\n",
    "    [0, 0, 0, 0, 0, 0, 0, 0, 0],\n",
    "    [0, 0, 0, 0, 0, 0, 0, 0, 0],\n",
    "    [0, 0, 0, 0, 0, 0, 0, 0, 0],\n",
    "    [0, 0, 0, 0, 0, 0, 0, 0, 0],\n",
    "    [0, 0, 0, 0, 0, 0, 0, 0, 0],\n",
    "    [0, 0, 0, 0, 0, 0, 0, 0, 1],\n",
    "    [0, 0, 0, 0, 0, 0, 0, 0, 1],\n",
    "    [1, 0, 0, 0, 0, 0, 0, 0, 1],\n",
    "    [1, 1, 0, 0, 0, 0, 0, 1, 1],\n",
    "    [1, 1, 0, 0, 0, 0, 1, 1, 1],\n",
    "    [1, 1, 0, 0, 1, 1, 1, 1, 1],\n",
    "    [1, 1, 1, 0, 1, 1, 1, 1, 1],\n",
    "    [1, 1, 1, 0, 1, 1, 1, 1, 1],\n",
    "    [1, 1, 1, 1, 1, 1, 0, 1, 1]\n",
    "]"
   ]
  },
  {
   "cell_type": "code",
   "execution_count": 2,
   "id": "d2efdd65",
   "metadata": {},
   "outputs": [],
   "source": [
    "currentBlock = [\n",
    "    [0, 0, 0, 0],\n",
    "    [0, 0, 0, 1],\n",
    "    [0, 1, 1, 1],\n",
    "    [0, 0, 0, 0],\n",
    "    \n",
    "    [0, 1, 0, 0],\n",
    "    [0, 1, 0, 0],\n",
    "    [0, 1, 1, 0],\n",
    "    [0, 0, 0, 0],\n",
    "    \n",
    "    [0, 0, 0, 0],\n",
    "    [0, 1, 1, 1],\n",
    "    [0, 1, 0, 0],\n",
    "    [0, 0, 0, 0],\n",
    "    \n",
    "    [0, 1, 1, 0],\n",
    "    [0, 0, 1, 0],\n",
    "    [0, 0, 1, 0],\n",
    "    [0, 0, 0, 0],\n",
    "]\n",
    "x = 2\n",
    "y = 0\n",
    "shape = 0"
   ]
  },
  {
   "cell_type": "code",
   "execution_count": 3,
   "id": "360a0061",
   "metadata": {},
   "outputs": [],
   "source": [
    "def printTetris():\n",
    "    global tetris, currentBlock, x, y, shape\n",
    "    for _y in range(len(tetris)):\n",
    "        for _x in range(len(tetris[_y])):\n",
    "#             print(x, y, _x, _y, _x <= x, _y <= y, x < _x + 4, y < _y + 4)\n",
    "            if _x >= x and _y >= y \\\n",
    "                and _x < x + 4 and _y < y + 4 \\\n",
    "                and currentBlock[_y - y + shape * 4][_x - x] != 0:\n",
    "                print(\"▒\", end=\"\")\n",
    "            elif tetris[_y][_x] == 1:\n",
    "                print(\"■\", end=\"\")\n",
    "            elif tetris[_y][_x] == 0:\n",
    "                print(\"□\", end=\"\")\n",
    "        print()\n"
   ]
  },
  {
   "cell_type": "code",
   "execution_count": 4,
   "id": "3c834ce7",
   "metadata": {},
   "outputs": [
    {
     "name": "stdout",
     "output_type": "stream",
     "text": [
      "□□□□□□□□□\n",
      "□□□□□▒□□□\n",
      "□□□▒▒▒□□□\n",
      "□□□□□□□□□\n",
      "□□□□□□□□□\n",
      "□□□□□□□□■\n",
      "□□□□□□□□■\n",
      "■□□□□□□□■\n",
      "■■□□□□□■■\n",
      "■■□□□□■■■\n",
      "■■□□■■■■■\n",
      "■■■□■■■■■\n",
      "■■■□■■■■■\n",
      "■■■■■■□■■\n"
     ]
    }
   ],
   "source": [
    "printTetris()"
   ]
  },
  {
   "cell_type": "code",
   "execution_count": 5,
   "id": "9002ba71",
   "metadata": {},
   "outputs": [],
   "source": [
    "COLLISION_TYPE_BORD = 1\n",
    "COLLISION_TYPE_BLOCK = 2\n",
    "COLLISION_TYPE_NA = 0\n",
    "def collisionCheck(x, y, shape):\n",
    "    global tetris, currentBlock\n",
    "    for _y in range(4):\n",
    "        for _x in range(4):\n",
    "            if currentBlock[_y + shape * 4][_x] != 0:\n",
    "                if _x + x < 0 or _x + x >= len(tetris[0]) or _y + y < 0 or _y + y >= len(tetris):\n",
    "                    return COLLISION_TYPE_BORD\n",
    "                elif tetris[y + _y][x + _x] != 0:\n",
    "                    return COLLISION_TYPE_BLOCK\n",
    "    return COLLISION_TYPE_NA"
   ]
  },
  {
   "cell_type": "code",
   "execution_count": 6,
   "id": "8b30728a",
   "metadata": {},
   "outputs": [],
   "source": [
    "def resetCurrentBlock():\n",
    "    global currentBlock\n",
    "    for _y in range(len(currentBlock)):\n",
    "        for _x in range(len(currentBlock[_y])):\n",
    "            currentBlock[_y][_x] = 0"
   ]
  },
  {
   "cell_type": "code",
   "execution_count": 7,
   "id": "856b23b2",
   "metadata": {},
   "outputs": [],
   "source": [
    "def mergeBlock():\n",
    "    global tetris, currentBlock, x, y, shape\n",
    "    for _y in range(4):\n",
    "        for _x in range(4):\n",
    "            if currentBlock[_y + shape * 4][_x] != 0 and \\\n",
    "                not (_x + x < 0 or _x + x >= len(tetris[0]) or _y + y < 0 or _y + y >= len(tetris)):\n",
    "                tetris[y + _y][x + _x] = currentBlock[_y + shape * 4][_x]\n",
    "    resetCurrentBlock()"
   ]
  },
  {
   "cell_type": "code",
   "execution_count": 8,
   "id": "bedf1437",
   "metadata": {},
   "outputs": [],
   "source": [
    "def shiftLine(y):\n",
    "    global tetris\n",
    "    for _y in range(y, 0, -1):\n",
    "        for _x in range(len(tetris[_y])):\n",
    "            tetris[_y][_x] = tetris[_y - 1][_x]"
   ]
  },
  {
   "cell_type": "code",
   "execution_count": 9,
   "id": "e60eeb52",
   "metadata": {},
   "outputs": [],
   "source": [
    "def removeLine():\n",
    "    global tetris\n",
    "    for _y in range(len(tetris)):\n",
    "        empty = False\n",
    "        for _x in range(len(tetris[_y])):\n",
    "            if tetris[_y][_x] == 0:\n",
    "                empty = True\n",
    "                break\n",
    "        if not empty:\n",
    "            for _x in range(len(tetris[_y])):\n",
    "                tetris[_y][_x] = 0\n",
    "            shiftLine(_y)"
   ]
  },
  {
   "cell_type": "code",
   "execution_count": 10,
   "id": "d15103fb",
   "metadata": {},
   "outputs": [],
   "source": [
    "def down(slient = False):\n",
    "    global x, y, shape\n",
    "    if collisionCheck(x, y + 1, shape) == COLLISION_TYPE_NA:\n",
    "        y = y + 1\n",
    "    elif collisionCheck(x, y + 1, shape) == COLLISION_TYPE_BLOCK:\n",
    "        mergeBlock()\n",
    "        removeLine()\n",
    "    if not slient:\n",
    "        printTetris()"
   ]
  },
  {
   "cell_type": "code",
   "execution_count": 11,
   "id": "298c2631",
   "metadata": {},
   "outputs": [],
   "source": [
    "def changeShape():\n",
    "    global x, y, shape\n",
    "    if collisionCheck(x, y, (shape + 1) % 4) == COLLISION_TYPE_NA:\n",
    "        shape = (shape + 1) % 4\n",
    "    printTetris()"
   ]
  },
  {
   "cell_type": "code",
   "execution_count": 12,
   "id": "415d3574",
   "metadata": {},
   "outputs": [],
   "source": [
    "def left():\n",
    "    global x, y, shape\n",
    "    if collisionCheck(x - 1, y, shape) == COLLISION_TYPE_NA:\n",
    "        x = x - 1\n",
    "    down(True)\n",
    "    printTetris()"
   ]
  },
  {
   "cell_type": "code",
   "execution_count": 13,
   "id": "2c0bacfe",
   "metadata": {},
   "outputs": [],
   "source": [
    "def right():\n",
    "    global x, y, shape\n",
    "    if collisionCheck(x + 1, y, shape) == COLLISION_TYPE_NA:\n",
    "        x = x + 1\n",
    "    down(True)\n",
    "    printTetris()"
   ]
  },
  {
   "cell_type": "code",
   "execution_count": 14,
   "id": "8380ad48",
   "metadata": {},
   "outputs": [
    {
     "name": "stdout",
     "output_type": "stream",
     "text": [
      "□□□□□□□□□\n",
      "□□□□□▒□□□\n",
      "□□□▒▒▒□□□\n",
      "□□□□□□□□□\n",
      "□□□□□□□□□\n",
      "□□□□□□□□■\n",
      "□□□□□□□□■\n",
      "■□□□□□□□■\n",
      "■■□□□□□■■\n",
      "■■□□□□■■■\n",
      "■■□□■■■■■\n",
      "■■■□■■■■■\n",
      "■■■□■■■■■\n",
      "■■■■■■□■■\n"
     ]
    }
   ],
   "source": [
    "printTetris()"
   ]
  }
 ],
 "metadata": {
  "kernelspec": {
   "display_name": "Python 3 (ipykernel)",
   "language": "python",
   "name": "python3"
  },
  "language_info": {
   "codemirror_mode": {
    "name": "ipython",
    "version": 3
   },
   "file_extension": ".py",
   "mimetype": "text/x-python",
   "name": "python",
   "nbconvert_exporter": "python",
   "pygments_lexer": "ipython3",
   "version": "3.8.2"
  }
 },
 "nbformat": 4,
 "nbformat_minor": 5
}
